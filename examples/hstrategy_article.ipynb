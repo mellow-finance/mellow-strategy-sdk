{
 "cells": [
  {
   "cell_type": "code",
   "execution_count": null,
   "id": "d6028c26-997a-4965-8537-8920394314bf",
   "metadata": {},
   "outputs": [],
   "source": [
    "import numpy as np\n",
    "import pandas as pd\n",
    "import math\n",
    "import polars as pl"
   ]
  },
  {
   "cell_type": "code",
   "execution_count": null,
   "id": "536549a3-921a-446a-ae0d-f41d8fd71594",
   "metadata": {},
   "outputs": [],
   "source": []
  },
  {
   "cell_type": "code",
   "execution_count": null,
   "id": "9c955db4-cff3-461f-87e3-d9b2a2569b5a",
   "metadata": {},
   "outputs": [],
   "source": [
    "import warnings\n",
    "warnings.filterwarnings('ignore')"
   ]
  },
  {
   "cell_type": "code",
   "execution_count": null,
   "id": "6fb88853-b6bf-47cb-8685-1fd3b020d414",
   "metadata": {},
   "outputs": [],
   "source": [
    "import plotly.graph_objects as go\n",
    "from plotly.subplots import make_subplots\n",
    "import plotly.express as px"
   ]
  },
  {
   "cell_type": "code",
   "execution_count": null,
   "id": "22b6f0a4-1b8b-4902-9f1e-f611697f53ab",
   "metadata": {},
   "outputs": [],
   "source": [
    "import os\n",
    "import sys\n",
    "\n",
    "root = os.path.split(os.getcwd())[0]\n",
    "if root not in sys.path:\n",
    "    sys.path.append(root)"
   ]
  },
  {
   "cell_type": "code",
   "execution_count": null,
   "id": "64158b05-d92a-49ec-a26e-7d19bbc61e61",
   "metadata": {},
   "outputs": [],
   "source": [
    "%load_ext autoreload\n",
    "%autoreload 2\n",
    "from strategy.backtest import Backtest\n",
    "from strategy.data import PoolDataUniV3, RawDataUniV3, SyntheticData\n",
    "from strategy.portfolio import Portfolio\n",
    "from strategy.positions import UniV3Position, BiCurrencyPosition\n",
    "from strategy.viewers import PotrfolioViewer, RebalanceViewer, UniswapViewer, LiquidityViewer\n",
    "from strategy.strategies import AbstractStrategy, HStrategy, UniV3Passive, MStrategy\n",
    "from strategy.multi_strategy import MultiStrategy\n",
    "from strategy.uniswap_utils import UniswapLiquidityAligner, UniswapV2Utils, UniswapV3Utils\n",
    "from strategy.primitives import Pool, Token, Fee"
   ]
  },
  {
   "cell_type": "code",
   "execution_count": null,
   "id": "131951d6-c027-44fa-b693-c413e6e587a7",
   "metadata": {},
   "outputs": [],
   "source": []
  },
  {
   "cell_type": "code",
   "execution_count": null,
   "id": "6f756429-e00d-4ff5-bc7b-02ec16eadbce",
   "metadata": {},
   "outputs": [],
   "source": [
    "def tick_to_price(tick, decimal_diff=10):\n",
    "    price = np.power(1.0001, tick) / 10 ** decimal_diff\n",
    "    return price\n",
    "\n",
    "def price_to_tick(price, decimal_diff=10):\n",
    "    tick = math.log(price, 1.0001) + decimal_diff * math.log(10, 1.0001)\n",
    "    return int(round(tick))"
   ]
  },
  {
   "cell_type": "code",
   "execution_count": null,
   "id": "7ca0d3ac-2f6b-41d4-ae82-9ed5c6d30d07",
   "metadata": {},
   "outputs": [],
   "source": [
    "pool = Pool(Token.WBTC, Token.WETH, Fee.MIDDLE)"
   ]
  },
  {
   "cell_type": "code",
   "execution_count": null,
   "id": "268fabb1-3c48-4e7c-9ec8-57c04e18f304",
   "metadata": {},
   "outputs": [],
   "source": [
    "data = RawDataUniV3(pool).load_from_folder()"
   ]
  },
  {
   "cell_type": "code",
   "execution_count": null,
   "id": "e22b27a5-6e97-4a01-9865-91bac4e4970b",
   "metadata": {},
   "outputs": [],
   "source": [
    "data.swaps = data.swaps"
   ]
  },
  {
   "cell_type": "code",
   "execution_count": null,
   "id": "7b50665c-d5f3-4fac-a683-07f1495c9bfb",
   "metadata": {},
   "outputs": [],
   "source": []
  },
  {
   "cell_type": "markdown",
   "id": "7913c245-7a69-44cc-ab18-c8314cfcdc78",
   "metadata": {},
   "source": [
    "## UniswapV2 strategy"
   ]
  },
  {
   "cell_type": "code",
   "execution_count": null,
   "id": "3d765f48-51dd-4622-a8c0-947c97ecd75e",
   "metadata": {},
   "outputs": [],
   "source": [
    "univ3_passive = UniV3Passive(1e-16, 1e16, pool, 0.01)"
   ]
  },
  {
   "cell_type": "code",
   "execution_count": null,
   "id": "69726361-5c9c-4ab2-8cc1-ebe08beae177",
   "metadata": {},
   "outputs": [],
   "source": [
    "b = Backtest(univ3_passive)\n",
    "portfolio_history, rebalance_history, uni_history = b.backtest(data.swaps)"
   ]
  },
  {
   "cell_type": "code",
   "execution_count": null,
   "id": "76c9150b-a4d7-4e92-b3f5-7b50ae110b67",
   "metadata": {},
   "outputs": [],
   "source": [
    "df1 = portfolio_history.calculate_stats()"
   ]
  },
  {
   "cell_type": "code",
   "execution_count": null,
   "id": "7da7b29c-52f6-4ca5-ace8-f2e9b1e4ed44",
   "metadata": {},
   "outputs": [],
   "source": [
    "fig1, fig2, fig3, fig4, fig5, fig6 = PotrfolioViewer(portfolio_history, pool).draw_portfolio()"
   ]
  },
  {
   "cell_type": "markdown",
   "id": "af5b11e6-3e05-4afd-8f8a-65399acaf4ea",
   "metadata": {},
   "source": [
    "## H-strategy (0 - inf)"
   ]
  },
  {
   "cell_type": "code",
   "execution_count": null,
   "id": "381c4034-5ed6-4375-b534-2ffd250ca5c6",
   "metadata": {},
   "outputs": [],
   "source": [
    "h_strat = HStrategy(800, 10, 1200, 1e-16, 1e16, 60, 15, pool, 0.01, 1e-5, 1e-5)"
   ]
  },
  {
   "cell_type": "code",
   "execution_count": null,
   "id": "05405854-5126-44b4-a484-10189c86fbc6",
   "metadata": {},
   "outputs": [],
   "source": [
    "b = Backtest(h_strat)\n",
    "portfolio_history, rebalance_history, uni_history = b.backtest(data.swaps)"
   ]
  },
  {
   "cell_type": "code",
   "execution_count": null,
   "id": "4cac24d5-8221-46b3-92d8-2b5b43ac9624",
   "metadata": {},
   "outputs": [],
   "source": [
    "df2 = portfolio_history.calculate_stats()"
   ]
  },
  {
   "cell_type": "code",
   "execution_count": null,
   "id": "7efd5076-0f2b-4740-a3b1-646c42eea103",
   "metadata": {},
   "outputs": [],
   "source": [
    "rv = RebalanceViewer(rebalance_history)\n",
    "rebalanses = rv.draw_rebalances(data.swaps)"
   ]
  },
  {
   "cell_type": "code",
   "execution_count": null,
   "id": "607b3895-949e-4d81-815b-af86cad9bdc9",
   "metadata": {},
   "outputs": [],
   "source": [
    "rebalanses"
   ]
  },
  {
   "cell_type": "code",
   "execution_count": null,
   "id": "37f9b65e-c566-4c5d-baed-56e2c442b793",
   "metadata": {},
   "outputs": [],
   "source": [
    "uv = UniswapViewer(uni_history)"
   ]
  },
  {
   "cell_type": "code",
   "execution_count": null,
   "id": "b4533e6f-ad9c-41cd-aedf-1aedbccc6983",
   "metadata": {},
   "outputs": [],
   "source": [
    "uv.draw_intervals(data.swaps)"
   ]
  },
  {
   "cell_type": "code",
   "execution_count": null,
   "id": "84c3c731-1cc5-4932-ac5b-c96f3b9772d5",
   "metadata": {},
   "outputs": [],
   "source": [
    "fig1, fig2, fig3, fig4, fig5, fig6 = PotrfolioViewer(portfolio_history, pool).draw_portfolio()"
   ]
  },
  {
   "cell_type": "code",
   "execution_count": null,
   "id": "16a8bc83-9888-4449-bfbb-343d2f66acf6",
   "metadata": {},
   "outputs": [],
   "source": [
    "fig1"
   ]
  },
  {
   "cell_type": "code",
   "execution_count": null,
   "id": "e80ac9fd-a67f-4bda-b657-a4f3aad13f52",
   "metadata": {},
   "outputs": [],
   "source": [
    "fig2"
   ]
  },
  {
   "cell_type": "code",
   "execution_count": null,
   "id": "656202e1-1ed6-46d3-bc8c-3c32971807e6",
   "metadata": {},
   "outputs": [],
   "source": []
  },
  {
   "cell_type": "markdown",
   "id": "edec8b9a-c487-40de-8465-0d5392eb7c79",
   "metadata": {},
   "source": [
    "## H-Strategy concentrated (with uniswap)"
   ]
  },
  {
   "cell_type": "code",
   "execution_count": null,
   "id": "6d5bb9bb-38a1-4cd7-b53a-8a1c60358425",
   "metadata": {},
   "outputs": [],
   "source": [
    "m_strat = HStrategy(800, 10, 1200, 10, 20, 60, 15, pool, 0.01, 1e-5, 1e-5)"
   ]
  },
  {
   "cell_type": "code",
   "execution_count": null,
   "id": "13cae24d-5a48-4e37-b967-16f60bd4b3af",
   "metadata": {},
   "outputs": [],
   "source": [
    "b = Backtest(m_strat)\n",
    "portfolio_history, rebalance_history, uni_history = b.backtest(data.swaps)"
   ]
  },
  {
   "cell_type": "code",
   "execution_count": null,
   "id": "9353f780-dfb6-469c-9fa7-e3be781af8f3",
   "metadata": {},
   "outputs": [],
   "source": [
    "df3 = portfolio_history.calculate_stats()"
   ]
  },
  {
   "cell_type": "code",
   "execution_count": null,
   "id": "32286532-a1c6-40bb-91ac-05ae7a2631ce",
   "metadata": {},
   "outputs": [],
   "source": [
    "uv = UniswapViewer(uni_history)"
   ]
  },
  {
   "cell_type": "code",
   "execution_count": null,
   "id": "6c7d7c12-e2ca-4378-b443-70ec7f297f35",
   "metadata": {},
   "outputs": [],
   "source": [
    "uv.draw_intervals(data.swaps)"
   ]
  },
  {
   "cell_type": "code",
   "execution_count": null,
   "id": "5615da2a-e518-44c8-8581-a05060a60157",
   "metadata": {},
   "outputs": [],
   "source": [
    "fig1, fig2, fig3, fig4, fig5, fig6 = PotrfolioViewer(portfolio_history, pool).draw_portfolio()"
   ]
  },
  {
   "cell_type": "code",
   "execution_count": null,
   "id": "3ea85bf9-db98-421a-a87b-adb73c188e3e",
   "metadata": {},
   "outputs": [],
   "source": [
    "fig1"
   ]
  },
  {
   "cell_type": "code",
   "execution_count": null,
   "id": "b079ba6d-2089-4247-a30b-e576f4a70391",
   "metadata": {},
   "outputs": [],
   "source": [
    "fig2"
   ]
  },
  {
   "cell_type": "markdown",
   "id": "3f7d67ef-d574-43b7-8b0a-d9a268acc603",
   "metadata": {},
   "source": [
    "# M-Strategy "
   ]
  },
  {
   "cell_type": "code",
   "execution_count": null,
   "id": "86ae6a71-21c0-4aa4-b28c-bc5cbbc07179",
   "metadata": {},
   "outputs": [],
   "source": [
    "m_strat = MStrategy(800, 10, 20, pool, 0.01, 1e-5, 1e-5)"
   ]
  },
  {
   "cell_type": "code",
   "execution_count": null,
   "id": "327339ab-6b5d-4a4a-879a-ca452489fad6",
   "metadata": {},
   "outputs": [],
   "source": [
    "b = Backtest(m_strat)\n",
    "portfolio_history, rebalance_history, uni_history = b.backtest(data.swaps)"
   ]
  },
  {
   "cell_type": "code",
   "execution_count": null,
   "id": "edf29707-0020-495f-ba3e-87ce23503c6b",
   "metadata": {},
   "outputs": [],
   "source": [
    "df4 = portfolio_history.calculate_stats()"
   ]
  },
  {
   "cell_type": "code",
   "execution_count": null,
   "id": "5d6d1aa5-ec89-4769-8bc6-25928ee76728",
   "metadata": {},
   "outputs": [],
   "source": [
    "rv = RebalanceViewer(rebalance_history)\n",
    "rebalanses = rv.draw_rebalances(data.swaps)"
   ]
  },
  {
   "cell_type": "code",
   "execution_count": null,
   "id": "71acd1b3-021c-4f8d-b886-8dedbda93c85",
   "metadata": {},
   "outputs": [],
   "source": [
    "rebalanses"
   ]
  },
  {
   "cell_type": "code",
   "execution_count": null,
   "id": "b2d8ffe2-e593-4d80-b589-c32ccec775eb",
   "metadata": {},
   "outputs": [],
   "source": [
    "fig1, fig2, fig3, fig4, fig5, fig6 = PotrfolioViewer(portfolio_history, pool).draw_portfolio()"
   ]
  },
  {
   "cell_type": "code",
   "execution_count": null,
   "id": "03742fc8-6a2c-4c37-8619-b7ee731f72a9",
   "metadata": {},
   "outputs": [],
   "source": [
    "fig1"
   ]
  },
  {
   "cell_type": "code",
   "execution_count": null,
   "id": "6e046e62-9632-4eb1-91e9-ccf00c6207ad",
   "metadata": {},
   "outputs": [],
   "source": [
    "fig2"
   ]
  },
  {
   "cell_type": "code",
   "execution_count": null,
   "id": "bb8b76da-e755-426f-a67e-8cf3a48fd082",
   "metadata": {},
   "outputs": [],
   "source": [
    "def aggr_value_y(df1, df2, df3, df4):\n",
    "    fig = make_subplots(specs=[[{\"secondary_y\": True}]])\n",
    "    \n",
    "    # fig.add_trace(\n",
    "    #     go.Scatter(\n",
    "    #         x=pd.to_datetime(df2['timestamp']),\n",
    "    #         y=df1['hold_to_y'],\n",
    "    #         name=\"Hold strategy\",\n",
    "    #     ),\n",
    "    #     secondary_y=False\n",
    "    # )\n",
    "    \n",
    "    fig.add_trace(\n",
    "        go.Scatter(\n",
    "            x=pd.to_datetime(df1['timestamp']),\n",
    "            y=df1['p0_value_to_y'],\n",
    "            name=\"UniswapV2\",\n",
    "        ), secondary_y=False)\n",
    "\n",
    "    fig.add_trace(\n",
    "        go.Scatter(\n",
    "            x=pd.to_datetime(df2['timestamp']),\n",
    "            y=df2['p0_value_to_y'],\n",
    "            name=f'H strategy 0-inf',\n",
    "        ), secondary_y=False)\n",
    "\n",
    "    fig.add_trace(\n",
    "        go.Scatter(\n",
    "            x=pd.to_datetime(df3['timestamp']),\n",
    "            y=df3['p0_value_to_y'],\n",
    "            name=\"H strategy min-max\",\n",
    "        ),\n",
    "        secondary_y=False\n",
    "    )\n",
    "\n",
    "    fig.add_trace(\n",
    "        go.Scatter(\n",
    "            x=pd.to_datetime(df4['timestamp']),\n",
    "            y=df4['p0_value_to_y'],\n",
    "            name=\"M strategy\",\n",
    "        ),\n",
    "        secondary_y=False\n",
    "    )\n",
    "    \n",
    "    fig.update_xaxes(title_text=\"Timeline\")\n",
    "    fig.update_yaxes(title_text=\"Value to ETH\", secondary_y=False)\n",
    "    fig.update_layout(title='Strategies comparison in ETH. WBTC/ETH pool.')\n",
    "    return fig"
   ]
  },
  {
   "cell_type": "code",
   "execution_count": null,
   "id": "e6382104-d0a3-4c02-9cd8-ec33a77ab907",
   "metadata": {},
   "outputs": [],
   "source": [
    "def aggr_value_x(df1, df2, df3, df4):\n",
    "    fig = make_subplots(specs=[[{\"secondary_y\": True}]])\n",
    "    \n",
    "    # fig.add_trace(\n",
    "    #     go.Scatter(\n",
    "    #         x=pd.to_datetime(df1['timestamp']),\n",
    "    #         y=df1['hold_to_x'],\n",
    "    #         name=\"Hold strategy\",\n",
    "    #     ),\n",
    "    #     secondary_y=False\n",
    "    # )\n",
    "        \n",
    "    fig.add_trace(\n",
    "        go.Scatter(\n",
    "            x=pd.to_datetime(df1['timestamp']),\n",
    "            y=df1['p0_value_to_x'],\n",
    "            name=\"UniswapV2\",\n",
    "        ), secondary_y=False)\n",
    "\n",
    "    fig.add_trace(\n",
    "        go.Scatter(\n",
    "            x=pd.to_datetime(df2['timestamp']),\n",
    "            y=df2['p0_value_to_x'],\n",
    "            name=f'H strategy 0-inf',\n",
    "        ), secondary_y=False)\n",
    "\n",
    "    fig.add_trace(\n",
    "        go.Scatter(\n",
    "            x=pd.to_datetime(df3['timestamp']),\n",
    "            y=df3['p0_value_to_x'],\n",
    "            name=\"H strategy min-max\",\n",
    "        ),\n",
    "        secondary_y=False\n",
    "    )\n",
    "    \n",
    "    fig.add_trace(\n",
    "        go.Scatter(\n",
    "            x=pd.to_datetime(df4['timestamp']),\n",
    "            y=df4['p0_value_to_x'],\n",
    "            name=\"M strategy\",\n",
    "        ),\n",
    "        secondary_y=False\n",
    "    )\n",
    "\n",
    "    fig.update_xaxes(title_text=\"Timeline\")\n",
    "    fig.update_yaxes(title_text=\"Value to WBTC\", secondary_y=False)\n",
    "    fig.update_layout(title='Strategies comparison in WBTC. WBTC/ETH pool.')\n",
    "    return fig"
   ]
  },
  {
   "cell_type": "code",
   "execution_count": null,
   "id": "09cf28b7-7140-4621-8296-29e1c255dc8c",
   "metadata": {},
   "outputs": [],
   "source": [
    "def aggr_apy_y(df1, df2, df3, df4):\n",
    "    fig = make_subplots(specs=[[{\"secondary_y\": True}]])\n",
    "\n",
    "    # fig.add_trace(\n",
    "    #     go.Scatter(\n",
    "    #         x=pd.to_datetime(df1['timestamp']),\n",
    "    #         y=df1['hold_apy_y'],\n",
    "    #         name=\"Hold strategy\",\n",
    "    #     ), secondary_y=False)\n",
    "\n",
    "\n",
    "    fig.add_trace(\n",
    "        go.Scatter(\n",
    "            x=pd.to_datetime(df1['timestamp']),\n",
    "            y=df1['vp0_apy_y'],\n",
    "            name=\"UniswapV2\",\n",
    "        ), secondary_y=False)\n",
    "\n",
    "    fig.add_trace(\n",
    "        go.Scatter(\n",
    "            x=pd.to_datetime(df2['timestamp']),\n",
    "            y=df2['vp0_apy_y'],\n",
    "            name=f'H strategy 0-inf',\n",
    "        ), secondary_y=False)\n",
    "\n",
    "    fig.add_trace(\n",
    "        go.Scatter(\n",
    "            x=pd.to_datetime(df3['timestamp']),\n",
    "            y=df3['vp0_apy_y'],\n",
    "            name=\"H strategy min-max\",\n",
    "        ),\n",
    "        secondary_y=False\n",
    "    )\n",
    "\n",
    "    fig.add_trace(\n",
    "        go.Scatter(\n",
    "            x=pd.to_datetime(df4['timestamp']),\n",
    "            y=df4['vp0_apy_y'],\n",
    "            name=\"M strategy\",\n",
    "        ),\n",
    "        secondary_y=False\n",
    "    )\n",
    "    fig.update_xaxes(title_text=\"Timeline\")\n",
    "    fig.update_yaxes(title_text=\"APY in ETH\", secondary_y=False)\n",
    "    fig.update_layout(title='Strategies APY comparison in ETH. WBTC/ETH pool.', yaxis_range=[0, 1])\n",
    "    return fig"
   ]
  },
  {
   "cell_type": "code",
   "execution_count": null,
   "id": "99dccc29-760c-45eb-8395-050b37675a1a",
   "metadata": {},
   "outputs": [],
   "source": [
    "def aggr_apy_x(df1, df2, df3, df4):\n",
    "    fig = make_subplots(specs=[[{\"secondary_y\": True}]])\n",
    "\n",
    "    # fig.add_trace(\n",
    "    #     go.Scatter(\n",
    "    #         x=pd.to_datetime(df1['timestamp']),\n",
    "    #         y=df1['vp0_apy_x'],\n",
    "    #         name=\"Hold strategy\",\n",
    "    #     ), secondary_y=False)\n",
    "\n",
    "\n",
    "    fig.add_trace(\n",
    "        go.Scatter(\n",
    "            x=pd.to_datetime(df1['timestamp']),\n",
    "            y=df1['vp0_apy_x'],\n",
    "            name=\"UniswapV2\",\n",
    "        ), secondary_y=False)\n",
    "\n",
    "    fig.add_trace(\n",
    "        go.Scatter(\n",
    "            x=pd.to_datetime(df2['timestamp']),\n",
    "            y=df2['vp0_apy_x'],\n",
    "            name=f'H strategy 0-inf',\n",
    "        ), secondary_y=False)\n",
    "\n",
    "    fig.add_trace(\n",
    "        go.Scatter(\n",
    "            x=pd.to_datetime(df3['timestamp']),\n",
    "            y=df3['vp0_apy_x'],\n",
    "            name=\"H strategy min-max\",\n",
    "        ),\n",
    "        secondary_y=False\n",
    "    )\n",
    "\n",
    "    fig.add_trace(\n",
    "        go.Scatter(\n",
    "            x=pd.to_datetime(df4['timestamp']),\n",
    "            y=df4['vp0_apy_x'],\n",
    "            name=\"M strategy\",\n",
    "        ),\n",
    "        secondary_y=False\n",
    "    )\n",
    "    fig.update_xaxes(title_text=\"Timeline\")\n",
    "    fig.update_yaxes(title_text=\"APY in WBTC\", secondary_y=False)\n",
    "    fig.update_layout(title='Strategies APY comparison in WBTC. WBTC/ETH pool.', yaxis_range=[0, 1])\n",
    "    return fig"
   ]
  },
  {
   "cell_type": "code",
   "execution_count": null,
   "id": "518303da-d770-49f9-9140-30e9875683df",
   "metadata": {},
   "outputs": [],
   "source": []
  },
  {
   "cell_type": "code",
   "execution_count": null,
   "id": "89ff7d84-8176-4526-83c6-419d30d37f24",
   "metadata": {},
   "outputs": [],
   "source": [
    "aggr_value_x(df1, df2, df3, df4)"
   ]
  },
  {
   "cell_type": "code",
   "execution_count": null,
   "id": "d9b47d8b-7035-412b-8427-1ad14c0f35ba",
   "metadata": {},
   "outputs": [],
   "source": [
    "aggr_value_y(df1, df2, df3, df4)"
   ]
  },
  {
   "cell_type": "code",
   "execution_count": null,
   "id": "78e3fbdf-472c-4dc0-ad7a-812abd9e4071",
   "metadata": {},
   "outputs": [],
   "source": []
  },
  {
   "cell_type": "code",
   "execution_count": null,
   "id": "1e9b9106-450b-40e0-b32f-23fd3dc0e66f",
   "metadata": {},
   "outputs": [],
   "source": [
    "aggr_apy_x(df1, df2, df3, df4)"
   ]
  },
  {
   "cell_type": "code",
   "execution_count": null,
   "id": "f51b93f9-7e64-4d3c-b5ce-1227a9f80475",
   "metadata": {},
   "outputs": [],
   "source": [
    "aggr_apy_y(df1, df2, df3, df4)"
   ]
  },
  {
   "cell_type": "code",
   "execution_count": null,
   "id": "04d4f5ea-40d2-4c1e-b3a4-c507e331bd58",
   "metadata": {},
   "outputs": [],
   "source": []
  },
  {
   "cell_type": "code",
   "execution_count": null,
   "id": "81ea0254-cd71-425a-9b97-bb77a40f3c43",
   "metadata": {},
   "outputs": [],
   "source": []
  },
  {
   "cell_type": "code",
   "execution_count": null,
   "id": "5497e3e0-690c-43e9-8363-034753148ab3",
   "metadata": {},
   "outputs": [],
   "source": [
    "labels = ['UniswapV2', \"H strategy 0-inf\", \"H strategy min-max\", 'M strategy']"
   ]
  },
  {
   "cell_type": "code",
   "execution_count": null,
   "id": "4e32ee86-c766-4a3c-8cab-f1f5828b4bc0",
   "metadata": {},
   "outputs": [],
   "source": [
    "# apy_x_1 = 100*(df1['hold_apy_x'][-1])\n",
    "apy_x_2 = 100*(df1['vp0_apy_x'][-1])\n",
    "apy_x_3 = 100*(df2['vp0_apy_x'][-1])\n",
    "apy_x_4 = 100*(df3['vp0_apy_x'][-1])\n",
    "apy_x_5 = 100*(df4['vp0_apy_x'][-1])\n"
   ]
  },
  {
   "cell_type": "code",
   "execution_count": null,
   "id": "e0b2ca71-2957-42bd-8a89-72a3b4af27fc",
   "metadata": {},
   "outputs": [],
   "source": [
    "# apy_y_1 = 100*(df1['hold_apy_y'][-1])\n",
    "apy_y_2 = 100*(df1['vp0_apy_y'][-1])\n",
    "apy_y_3 = 100*(df2['vp0_apy_y'][-1])\n",
    "apy_y_4 = 100*(df3['vp0_apy_y'][-1])\n",
    "apy_y_5 = 100*(df4['vp0_apy_y'][-1])\n"
   ]
  },
  {
   "cell_type": "code",
   "execution_count": null,
   "id": "123e484c-1251-4e69-93aa-385772168610",
   "metadata": {},
   "outputs": [],
   "source": [
    "apys_x = [apy_x_2, apy_x_3, apy_x_4, apy_x_5]"
   ]
  },
  {
   "cell_type": "code",
   "execution_count": null,
   "id": "a6192b49-8795-47ef-bcf2-f91207b91772",
   "metadata": {},
   "outputs": [],
   "source": [
    "apys_y = [apy_y_2, apy_y_3, apy_y_4, apy_y_5]"
   ]
  },
  {
   "cell_type": "code",
   "execution_count": null,
   "id": "b8219e16-74f0-469a-ba4f-23b075c9c08a",
   "metadata": {},
   "outputs": [],
   "source": [
    "fig = px.bar(y=apys_x, x=labels)\n",
    "fig.update_xaxes(title_text=\"Strategy\")\n",
    "fig.update_yaxes(title_text=\"APY\", secondary_y=False)\n",
    "fig.update_layout(title='Strategies APY comparison in WBTC. WBTC/ETH pool.')"
   ]
  },
  {
   "cell_type": "code",
   "execution_count": null,
   "id": "2f0944b0-2b73-4e21-b15a-2186b75c48fd",
   "metadata": {},
   "outputs": [],
   "source": [
    "fig = px.bar(y=apys_y, x=labels)\n",
    "fig.update_xaxes(title_text=\"Strategy\")\n",
    "fig.update_yaxes(title_text=\"APY\", secondary_y=False)\n",
    "fig.update_layout(title='Strategies APY comparison in ETH. WBTC/ETH pool.')"
   ]
  },
  {
   "cell_type": "code",
   "execution_count": null,
   "id": "7afd38f1-f8ee-4665-ac58-ab7904847444",
   "metadata": {},
   "outputs": [],
   "source": []
  },
  {
   "cell_type": "code",
   "execution_count": null,
   "id": "4d3fa52a-9f83-4e99-961f-b8d99f7d1e56",
   "metadata": {},
   "outputs": [],
   "source": []
  },
  {
   "cell_type": "code",
   "execution_count": null,
   "id": "5468acb6-f7b9-4f4a-bd5e-9d28e3d165fb",
   "metadata": {},
   "outputs": [],
   "source": []
  },
  {
   "cell_type": "code",
   "execution_count": null,
   "id": "dc2f1843-3cd6-43bf-b1c3-1ec3cf6f2eeb",
   "metadata": {},
   "outputs": [],
   "source": []
  },
  {
   "cell_type": "code",
   "execution_count": null,
   "id": "60a36292-b350-4996-b16a-221653b5884e",
   "metadata": {},
   "outputs": [],
   "source": []
  },
  {
   "cell_type": "code",
   "execution_count": null,
   "id": "5c88f2ec-e12c-47eb-8654-fe20886a3e5c",
   "metadata": {},
   "outputs": [],
   "source": []
  },
  {
   "cell_type": "code",
   "execution_count": null,
   "id": "29489396-4448-4f4f-9097-8e4207be426f",
   "metadata": {},
   "outputs": [],
   "source": []
  }
 ],
 "metadata": {
  "kernelspec": {
   "display_name": "Python 3 (ipykernel)",
   "language": "python",
   "name": "python3"
  },
  "language_info": {
   "codemirror_mode": {
    "name": "ipython",
    "version": 3
   },
   "file_extension": ".py",
   "mimetype": "text/x-python",
   "name": "python",
   "nbconvert_exporter": "python",
   "pygments_lexer": "ipython3",
   "version": "3.8.10"
  }
 },
 "nbformat": 4,
 "nbformat_minor": 5
}
