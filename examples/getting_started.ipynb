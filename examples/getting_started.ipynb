{
 "cells": [
  {
   "cell_type": "code",
   "execution_count": null,
   "id": "6a7b6f18",
   "metadata": {
    "pycharm": {
     "name": "#%%\n"
    }
   },
   "outputs": [],
   "source": [
    "# python3 -m venv .venv\n",
    "# source .venv/bin/activate\n",
    "# pip install mellow_strategy_sdk"
   ]
  },
  {
   "cell_type": "code",
   "execution_count": null,
   "id": "c1a593e8",
   "metadata": {
    "pycharm": {
     "name": "#%%\n"
    }
   },
   "outputs": [],
   "source": [
    "from mellow_sdk.primitives import Pool, POOLS\n",
    "from mellow_sdk.data import RawDataUniV3\n",
    "from mellow_sdk.strategies import AbstractStrategy\n",
    "from mellow_sdk.backtest import Backtest\n",
    "from mellow_sdk.viewers import RebalanceViewer, UniswapViewer, PortfolioViewer\n",
    "from mellow_sdk.positions import BiCurrencyPosition, UniV3Position"
   ]
  },
  {
   "cell_type": "markdown",
   "id": "94934200",
   "metadata": {},
   "source": [
    "### Choose a pool"
   ]
  },
  {
   "cell_type": "code",
   "execution_count": null,
   "id": "2ee269c0",
   "metadata": {},
   "outputs": [],
   "source": [
    "pool_num = 1\n",
    "pool = Pool(\n",
    "    tokenA=POOLS[pool_num]['token0'],\n",
    "    tokenB=POOLS[pool_num]['token1'],\n",
    "    fee=POOLS[pool_num]['fee']\n",
    ")"
   ]
  },
  {
   "cell_type": "markdown",
   "id": "4432e4ca",
   "metadata": {},
   "source": [
    "### Get data"
   ]
  },
  {
   "cell_type": "code",
   "execution_count": null,
   "id": "e0144d85",
   "metadata": {},
   "outputs": [],
   "source": [
    "data = RawDataUniV3(pool, 'data', reload_data=False).load_from_folder()"
   ]
  },
  {
   "cell_type": "markdown",
   "id": "59be41ce",
   "metadata": {},
   "source": [
    "### Create strategy"
   ]
  },
  {
   "cell_type": "code",
   "execution_count": null,
   "id": "f111496c",
   "metadata": {},
   "outputs": [],
   "source": [
    "class UniV3Passive(AbstractStrategy):\n",
    "    \"\"\"\n",
    "    ``UniV3Passive`` is the passive strategy on UniswapV3, i.e. mint one interval and wait.\n",
    "\n",
    "    Attributes:\n",
    "        lower_price: Lower bound of the interval\n",
    "        upper_price: Upper bound of the interval\n",
    "        gas_cost: Gas costs, expressed in currency\n",
    "        pool: UniswapV3 Pool instance\n",
    "        name: Unique name for the instance\n",
    "    \"\"\"\n",
    "    def __init__(self,\n",
    "                 lower_price: float,\n",
    "                 upper_price: float,\n",
    "                 pool: Pool,\n",
    "                 gas_cost: float,\n",
    "                 name: str = None,\n",
    "                 ):\n",
    "        super().__init__(name)\n",
    "        self.lower_price = lower_price\n",
    "        self.upper_price = upper_price\n",
    "\n",
    "        self.fee_percent = pool.fee.percent\n",
    "        self.gas_cost = gas_cost\n",
    "        self.swap_fee = pool.fee.percent\n",
    "\n",
    "    def rebalance(self, *args, **kwargs) -> str:\n",
    "        # record is row of historic data\n",
    "        record = kwargs['record']\n",
    "        \n",
    "        # portfolio managed by the strategy\n",
    "        portfolio = kwargs['portfolio']\n",
    "        price_before, price = record['price_before'], record['price']\n",
    "\n",
    "        is_rebalanced = None\n",
    "\n",
    "        if len(portfolio.positions) == 0:\n",
    "            self.create_uni_position(portfolio=portfolio, price=price)\n",
    "            is_rebalanced = 'mint'\n",
    "\n",
    "        if 'UniV3Passive' in portfolio.positions:\n",
    "            uni_pos = portfolio.get_position('UniV3Passive')\n",
    "            \n",
    "            # collect fees from uni\n",
    "            uni_pos.charge_fees(price_before, price)\n",
    "\n",
    "        return is_rebalanced\n",
    "\n",
    "    def create_uni_position(self, portfolio, price):\n",
    "        x = 1 / price\n",
    "        y = 1\n",
    "        \n",
    "        # create biccurency positions for swap\n",
    "        bi_cur = BiCurrencyPosition(\n",
    "            name=f'main_vault',\n",
    "            swap_fee=self.swap_fee,\n",
    "            gas_cost=self.gas_cost,\n",
    "            x=x,\n",
    "            y=y,\n",
    "            x_interest=None,\n",
    "            y_interest=None\n",
    "        )\n",
    "        # create uni interval\n",
    "        uni_pos = UniV3Position(\n",
    "            name=f'UniV3Passive',\n",
    "            lower_price=self.lower_price,\n",
    "            upper_price=self.upper_price,\n",
    "            fee_percent=self.fee_percent,\n",
    "            gas_cost=self.gas_cost,\n",
    "        )\n",
    "\n",
    "        portfolio.append(bi_cur)\n",
    "        portfolio.append(uni_pos)\n",
    "\n",
    "        # get tokens amount to swap\n",
    "        dx, dy = uni_pos.aligner.get_amounts_for_swap_to_optimal(\n",
    "            x, y, swap_fee=bi_cur.swap_fee, price=price\n",
    "        )\n",
    "        \n",
    "        # swap\n",
    "        if dx > 0:\n",
    "            bi_cur.swap_x_to_y(dx, price=price)\n",
    "        if dy > 0:\n",
    "            bi_cur.swap_y_to_x(dy, price=price)\n",
    "        \n",
    "        x_uni, y_uni = uni_pos.aligner.get_amounts_after_optimal_swap(\n",
    "            x, y, swap_fee=bi_cur.swap_fee, price=price\n",
    "        )\n",
    "        \n",
    "        # withdraw tokens from bicurrency\n",
    "        bi_cur.withdraw(x_uni, y_uni)\n",
    "        \n",
    "        # deposit tokens to uni\n",
    "        uni_pos.deposit(x_uni, y_uni, price=price)"
   ]
  },
  {
   "cell_type": "markdown",
   "id": "cdceb8ec",
   "metadata": {},
   "source": [
    "### Backtest"
   ]
  },
  {
   "cell_type": "code",
   "execution_count": null,
   "id": "ec9612b0",
   "metadata": {},
   "outputs": [],
   "source": [
    "univ3_passive = UniV3Passive(\n",
    "    lower_price=data.swaps['price'].min(),\n",
    "    upper_price=data.swaps['price'].max(),\n",
    "    pool=pool,\n",
    "    gas_cost=0.,\n",
    "    name='passive'\n",
    ")\n",
    "\n",
    "bt = Backtest(univ3_passive)\n",
    "portfolio_history, rebalance_history, uni_history = bt.backtest(data.swaps)"
   ]
  },
  {
   "cell_type": "markdown",
   "id": "a8ab1681",
   "metadata": {},
   "source": [
    "### Visualise"
   ]
  },
  {
   "cell_type": "code",
   "execution_count": null,
   "id": "f356d4c3",
   "metadata": {},
   "outputs": [],
   "source": [
    "rv = RebalanceViewer(rebalance_history)\n",
    "uv = UniswapViewer(uni_history)\n",
    "pv = PortfolioViewer(portfolio_history, pool)\n",
    "\n",
    "# Draw portfolio stats, like value, fees earned, apy\n",
    "fig1, fig2, fig3, fig4, fig5, fig6 = pv.draw_portfolio()\n",
    "\n",
    "# Draw Uniswap intervals\n",
    "intervals_plot = uv.draw_intervals(data.swaps)\n",
    "\n",
    "# Draw rebalances\n",
    "rebalances_plot = rv.draw_rebalances(data.swaps)\n",
    "\n",
    "# Calculate df with portfolio stats\n",
    "stats = portfolio_history.calculate_stats()"
   ]
  },
  {
   "cell_type": "code",
   "execution_count": null,
   "id": "139cf96a",
   "metadata": {},
   "outputs": [],
   "source": [
    "intervals_plot.show()"
   ]
  },
  {
   "cell_type": "code",
   "execution_count": null,
   "id": "1ba797e5",
   "metadata": {},
   "outputs": [],
   "source": [
    "rebalances_plot.show()"
   ]
  },
  {
   "cell_type": "code",
   "execution_count": null,
   "id": "8c15e8b1",
   "metadata": {},
   "outputs": [],
   "source": [
    "fig2.show()"
   ]
  },
  {
   "cell_type": "code",
   "execution_count": null,
   "id": "d6b01a9a",
   "metadata": {},
   "outputs": [],
   "source": [
    "fig4.show()"
   ]
  },
  {
   "cell_type": "code",
   "execution_count": null,
   "id": "14ac26d8",
   "metadata": {},
   "outputs": [],
   "source": [
    "fig6.show()"
   ]
  },
  {
   "cell_type": "code",
   "execution_count": null,
   "id": "22fef9b3",
   "metadata": {},
   "outputs": [],
   "source": [
    "stats.tail(2)"
   ]
  },
  {
   "cell_type": "code",
   "execution_count": null,
   "id": "b0f9859c",
   "metadata": {},
   "outputs": [],
   "source": [
    "stats.tail(2).write_csv('getting_started_stats.csv')"
   ]
  },
  {
   "cell_type": "code",
   "execution_count": null,
   "id": "993d8247",
   "metadata": {},
   "outputs": [],
   "source": [
    "rebalances_plot.write_image('getting_started_rebalances.png')\n",
    "intervals_plot.write_image('getting_started_intervals.png')\n",
    "fig2.write_image('getting_started_fig2.png')\n",
    "fig4.write_image('getting_started_fig4.png')\n",
    "fig6.write_image('getting_started_fig6.png')"
   ]
  }
 ],
 "metadata": {
  "kernelspec": {
   "display_name": "Python 3 (ipykernel)",
   "language": "python",
   "name": "python3"
  },
  "language_info": {
   "codemirror_mode": {
    "name": "ipython",
    "version": 3
   },
   "file_extension": ".py",
   "mimetype": "text/x-python",
   "name": "python",
   "nbconvert_exporter": "python",
   "pygments_lexer": "ipython3",
   "version": "3.8.10"
  }
 },
 "nbformat": 4,
 "nbformat_minor": 5
}