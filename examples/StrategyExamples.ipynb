{
 "cells": [
  {
   "cell_type": "code",
   "execution_count": null,
   "id": "f3688a9f",
   "metadata": {},
   "outputs": [],
   "source": [
    "import numpy as np\n",
    "import pandas as pd\n",
    "import math"
   ]
  },
  {
   "cell_type": "code",
   "execution_count": null,
   "id": "b915626c",
   "metadata": {},
   "outputs": [],
   "source": []
  },
  {
   "cell_type": "code",
   "execution_count": null,
   "id": "633a050a",
   "metadata": {},
   "outputs": [],
   "source": [
    "import os\n",
    "import sys\n",
    "\n",
    "root = os.path.split(os.getcwd())[0]\n",
    "if root not in sys.path:\n",
    "    sys.path.append(root)"
   ]
  },
  {
   "cell_type": "code",
   "execution_count": null,
   "id": "52bd9eb4",
   "metadata": {},
   "outputs": [],
   "source": [
    "%load_ext autoreload\n",
    "%autoreload 2\n",
    "from strategy.backtest import Backtest\n",
    "from strategy.data import RawDataUniV3, PoolDataUniV3\n",
    "from strategy.positions import UniV3Position\n",
    "from strategy.viewers import PotrfolioViewer, RebalanceViewer, UniswapViewer, LiquidityViewer\n",
    "from strategy.strategies import AbstractStrategy\n",
    "from strategy.uniswap_utils import UniswapLiquidityAligner\n",
    "from strategy.primitives import Pool, Token, Fee"
   ]
  },
  {
   "cell_type": "code",
   "execution_count": null,
   "id": "f7515051",
   "metadata": {},
   "outputs": [],
   "source": [
    "def tick_to_price(tick, decimal_diff=10):\n",
    "    price = np.power(1.0001, tick) / 10 ** decimal_diff\n",
    "    return price\n",
    "\n",
    "def price_to_tick(price, decimal_diff=10):\n",
    "    tick = math.log(price, 1.0001) + decimal_diff * math.log(10, 1.0001)\n",
    "    return int(round(tick))"
   ]
  },
  {
   "cell_type": "markdown",
   "id": "2bacc70e",
   "metadata": {},
   "source": [
    "## Synthetic Data"
   ]
  },
  {
   "cell_type": "code",
   "execution_count": null,
   "id": "e8a19852",
   "metadata": {},
   "outputs": [],
   "source": [
    "pool = Pool(Token.WBTC, Token.WETH, Fee.MIDDLE)"
   ]
  },
  {
   "cell_type": "code",
   "execution_count": null,
   "id": "7511d260-c4a2-4f6d-83c0-091f455ab374",
   "metadata": {},
   "outputs": [],
   "source": [
    "class LinearData:\n",
    "    def __init__(self, pool, start_date='1-1-2022', freq='4H', n_points=2190, init_price=1, growth_rate=0.05):\n",
    "        self.pool = pool\n",
    "        self.start_date = start_date\n",
    "        self.freq = freq\n",
    "        self.n_points = n_points\n",
    "        self.init_price = init_price\n",
    "        self.growth_rate = growth_rate\n",
    "\n",
    "    def generate_data(self):\n",
    "        timestamps = pd.date_range(start=self.start_date, periods=self.n_points, freq=self.freq, normalize=True)\n",
    "        prices = np.linspace(self.init_price, self.init_price * (1 + self.growth_rate), self.n_points)\n",
    "\n",
    "        df = pd.DataFrame(data=zip(timestamps, prices), columns=['timestamp', 'price']).set_index('timestamp')\n",
    "\n",
    "        df[\"price_before\"] = df[\"price\"].shift(1)\n",
    "        df[\"price_before\"] = df[\"price_before\"].bfill()\n",
    "\n",
    "        df[\"price_next\"] = df[\"price\"].shift(-1)\n",
    "        df[\"price_next\"] = df[\"price_next\"].ffill()\n",
    "\n",
    "        return PoolDataUniV3(self.pool, mints=None, burns=None, swaps=df)\n",
    "\n"
   ]
  },
  {
   "cell_type": "code",
   "execution_count": null,
   "id": "a43600fb-e57e-45d2-8aa3-3b43c6e3e3f4",
   "metadata": {},
   "outputs": [],
   "source": [
    "data = LinearData(pool).generate_data()"
   ]
  },
  {
   "cell_type": "code",
   "execution_count": null,
   "id": "aa5c16f8-c949-4131-9040-a614d501c0f0",
   "metadata": {},
   "outputs": [],
   "source": [
    "# data = RawDataUniV3(pool).load_from_folder()"
   ]
  },
  {
   "cell_type": "markdown",
   "id": "167c2ed5",
   "metadata": {},
   "source": [
    "## Passive UniV3 strategy"
   ]
  },
  {
   "cell_type": "code",
   "execution_count": null,
   "id": "dc5eaeb4",
   "metadata": {},
   "outputs": [],
   "source": [
    "class UniV3Passive(AbstractStrategy):\n",
    "    \"\"\"\n",
    "    ``UniV3Passive`` is the passive strategy on UniswapV3 without rebalances.\n",
    "        lower_price: Lower bound of the interval\n",
    "        upper_price: Upper bound of the interval\n",
    "        rebalance_cost: Rebalancing cost, expressed in currency\n",
    "        pool: UniswapV3 Pool instance\n",
    "        name: Unique name for the instance\n",
    "    \"\"\"\n",
    "    def __init__(self,\n",
    "                 lower_price: float,\n",
    "                 upper_price: float,\n",
    "                 pool: Pool,\n",
    "                 rebalance_cost: float,\n",
    "                 name: str = None,\n",
    "                 ):\n",
    "        super().__init__(name)\n",
    "        self.lower_price = lower_price\n",
    "        self.upper_price = upper_price\n",
    "        self.decimal_diff = -pool.decimals_diff\n",
    "        self.fee_percent = pool.fee.percent\n",
    "        self.rebalance_cost = rebalance_cost\n",
    "\n",
    "    def rebalance(self, *args, **kwargs) -> bool:\n",
    "        timestamp = kwargs['timestamp']\n",
    "        row = kwargs['row']\n",
    "        portfolio = kwargs['portfolio']\n",
    "        price_before, price = row['price_before'], row['price']\n",
    "\n",
    "        is_rebalanced = None\n",
    "\n",
    "        if len(portfolio.positions) == 0:\n",
    "            univ3_pos = self.create_uni_position(price)\n",
    "            portfolio.append(univ3_pos)\n",
    "            is_rebalanced = 'mint'\n",
    "\n",
    "        if 'UniV3Passive' in portfolio.positions:\n",
    "            uni_pos = portfolio.get_position('UniV3Passive')\n",
    "            uni_pos.charge_fees(price_before, price)\n",
    "\n",
    "        return is_rebalanced\n",
    "\n",
    "\n",
    "    def create_uni_position(self, price):\n",
    "        uni_aligner = UniswapLiquidityAligner(self.lower_price, self.upper_price)\n",
    "        \n",
    "        x_uni_aligned, y_uni_aligned = uni_aligner.align_to_liq(1 / price, 1, price)\n",
    "        \n",
    "        univ3_pos = UniV3Position('UniV3Passive', self.lower_price, self.upper_price, self.fee_percent, self.rebalance_cost)\n",
    "        univ3_pos.deposit(x_uni_aligned, y_uni_aligned, price)\n",
    "\n",
    "        return univ3_pos"
   ]
  },
  {
   "cell_type": "code",
   "execution_count": null,
   "id": "01ab3807",
   "metadata": {},
   "outputs": [],
   "source": []
  },
  {
   "cell_type": "code",
   "execution_count": null,
   "id": "38c798a3",
   "metadata": {},
   "outputs": [],
   "source": [
    "univ3_passive = UniV3Passive(data.swaps['price'].min() - 1e-3, data.swaps['price'].max() + 1e-3, pool, 0.01)"
   ]
  },
  {
   "cell_type": "code",
   "execution_count": null,
   "id": "ffa08c30",
   "metadata": {},
   "outputs": [],
   "source": [
    "b = Backtest(univ3_passive)\n",
    "portfolio_history, rebalance_history, uni_history = b.backtest(data.swaps)"
   ]
  },
  {
   "cell_type": "code",
   "execution_count": null,
   "id": "36a48fcb",
   "metadata": {},
   "outputs": [],
   "source": [
    "rv = RebalanceViewer(rebalance_history)\n",
    "rebalanses = rv.draw_rebalances(data.swaps)"
   ]
  },
  {
   "cell_type": "code",
   "execution_count": null,
   "id": "c7965443",
   "metadata": {},
   "outputs": [],
   "source": [
    "rebalanses"
   ]
  },
  {
   "cell_type": "code",
   "execution_count": null,
   "id": "d3e7d833",
   "metadata": {},
   "outputs": [],
   "source": []
  },
  {
   "cell_type": "code",
   "execution_count": null,
   "id": "d30c8ffb",
   "metadata": {},
   "outputs": [],
   "source": [
    "uv = UniswapViewer(uni_history)\n",
    "uni_interval_fig = uv.draw_intervals(data.swaps)"
   ]
  },
  {
   "cell_type": "code",
   "execution_count": null,
   "id": "de285f56",
   "metadata": {},
   "outputs": [],
   "source": [
    "uni_interval_fig"
   ]
  },
  {
   "cell_type": "code",
   "execution_count": null,
   "id": "14108db6",
   "metadata": {},
   "outputs": [],
   "source": [
    "uni_history.get_coverage(data.swaps)"
   ]
  },
  {
   "cell_type": "code",
   "execution_count": null,
   "id": "2c475eb8",
   "metadata": {},
   "outputs": [],
   "source": [
    "fig1, fig2, fig3, fig4, fig5 = PotrfolioViewer(portfolio_history, pool).draw_portfolio()"
   ]
  },
  {
   "cell_type": "code",
   "execution_count": null,
   "id": "c4e7a4a6",
   "metadata": {},
   "outputs": [],
   "source": [
    "fig1"
   ]
  },
  {
   "cell_type": "code",
   "execution_count": null,
   "id": "f4cc28fd",
   "metadata": {},
   "outputs": [],
   "source": [
    "fig3"
   ]
  },
  {
   "cell_type": "code",
   "execution_count": null,
   "id": "7e5e2f0e",
   "metadata": {},
   "outputs": [],
   "source": [
    "fig2"
   ]
  },
  {
   "cell_type": "code",
   "execution_count": null,
   "id": "f42dca10",
   "metadata": {},
   "outputs": [],
   "source": [
    "fig4"
   ]
  },
  {
   "cell_type": "code",
   "execution_count": null,
   "id": "2e14c686",
   "metadata": {},
   "outputs": [],
   "source": [
    "fig5"
   ]
  },
  {
   "cell_type": "code",
   "execution_count": null,
   "id": "f8c6ac77-babb-434a-a601-4fd3883c83b2",
   "metadata": {},
   "outputs": [],
   "source": []
  },
  {
   "cell_type": "code",
   "execution_count": null,
   "id": "ffb1d762-6e40-4fd2-a3ce-f45eb2f6079d",
   "metadata": {},
   "outputs": [],
   "source": []
  }
 ],
 "metadata": {
  "kernelspec": {
   "display_name": "Python 3 (ipykernel)",
   "language": "python",
   "name": "python3"
  },
  "language_info": {
   "codemirror_mode": {
    "name": "ipython",
    "version": 3
   },
   "file_extension": ".py",
   "mimetype": "text/x-python",
   "name": "python",
   "nbconvert_exporter": "python",
   "pygments_lexer": "ipython3",
   "version": "3.8.10"
  }
 },
 "nbformat": 4,
 "nbformat_minor": 5
}
