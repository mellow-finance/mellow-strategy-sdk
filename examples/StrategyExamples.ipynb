{
 "cells": [
  {
   "cell_type": "code",
   "execution_count": null,
   "id": "f3688a9f",
   "metadata": {},
   "outputs": [],
   "source": [
    "import numpy as np\n",
    "import pandas as pd\n",
    "import math\n"
   ]
  },
  {
   "cell_type": "code",
   "execution_count": null,
   "id": "633a050a",
   "metadata": {},
   "outputs": [],
   "source": [
    "import os\n",
    "import sys\n",
    "\n",
    "root = os.path.split(os.getcwd())[0]\n",
    "if root not in sys.path:\n",
    "    sys.path.append(root)"
   ]
  },
  {
   "cell_type": "code",
   "execution_count": null,
   "id": "84e56940",
   "metadata": {},
   "outputs": [],
   "source": []
  },
  {
   "cell_type": "code",
   "execution_count": null,
   "id": "52bd9eb4",
   "metadata": {},
   "outputs": [],
   "source": [
    "%load_ext autoreload\n",
    "%autoreload 2\n",
    "from strategy.Positions import UniV3Position, BiCurrencyPosition\n",
    "from strategy.Portfolio import Portfolio\n",
    "from strategy.Data import PoolDataUniV3\n",
    "from strategy.Backtest import Backtest\n",
    "from strategy.History import PortfolioHistory\n",
    "from strategy.Strategies import BiCurrencyPassive, BiCurrencyActive, UniV3Passive, UniV3Active\n",
    "from strategy.Viewers import PotrfolioViewer, RebalanceViewer\n",
    "\n",
    "from strategy import Pool, Token, Fee, Frequency"
   ]
  },
  {
   "cell_type": "code",
   "execution_count": null,
   "id": "f7515051",
   "metadata": {},
   "outputs": [],
   "source": [
    "def tick_to_price(tick, decimal_diff=10):\n",
    "    price = np.power(1.0001, tick) / 10 ** decimal_diff\n",
    "    return price\n",
    "\n",
    "def price_to_tick(price, decimal_diff=10):\n",
    "    tick = math.log(price, 1.0001) + decimal_diff * math.log(10, 1.0001)\n",
    "    return int(round(tick))"
   ]
  },
  {
   "cell_type": "code",
   "execution_count": null,
   "id": "e8a19852",
   "metadata": {},
   "outputs": [],
   "source": [
    "pool = Pool(Token.WBTC, Token.WETH, Fee.MIDDLE)"
   ]
  },
  {
   "cell_type": "code",
   "execution_count": null,
   "id": "a006ee50",
   "metadata": {},
   "outputs": [],
   "source": [
    "data = PoolDataUniV3.from_folder(pool)\n",
    "data.preprocess()"
   ]
  },
  {
   "cell_type": "code",
   "execution_count": null,
   "id": "aec84e31",
   "metadata": {},
   "outputs": [],
   "source": [
    "data.plot()"
   ]
  },
  {
   "cell_type": "markdown",
   "id": "3120848d",
   "metadata": {},
   "source": [
    "## Bi-currency passive strategy"
   ]
  },
  {
   "cell_type": "code",
   "execution_count": null,
   "id": "0fa34148",
   "metadata": {},
   "outputs": [],
   "source": [
    "bi_curr_strat = BiCurrencyPassive(pool)"
   ]
  },
  {
   "cell_type": "code",
   "execution_count": null,
   "id": "69698a02",
   "metadata": {},
   "outputs": [],
   "source": [
    "b = Backtest(bi_curr_strat)\n",
    "portfolio_history, rebalance_history = b.backtest(data.swaps)"
   ]
  },
  {
   "cell_type": "code",
   "execution_count": null,
   "id": "b616b854",
   "metadata": {},
   "outputs": [],
   "source": [
    "stats_df_sbc = portfolio_history.portfolio_stats()"
   ]
  },
  {
   "cell_type": "code",
   "execution_count": null,
   "id": "f6b0ec45",
   "metadata": {},
   "outputs": [],
   "source": [
    "rv = RebalanceViewer(rebalance_history)"
   ]
  },
  {
   "cell_type": "code",
   "execution_count": null,
   "id": "39360ef0",
   "metadata": {},
   "outputs": [],
   "source": [
    "rebalanses = rv.draw_rebalances(data.swaps)"
   ]
  },
  {
   "cell_type": "code",
   "execution_count": null,
   "id": "8839636b",
   "metadata": {},
   "outputs": [],
   "source": [
    "rebalanses"
   ]
  },
  {
   "cell_type": "code",
   "execution_count": null,
   "id": "0884363f",
   "metadata": {},
   "outputs": [],
   "source": [
    "f1, f2, f3, f4 = PotrfolioViewer(portfolio_history).draw_portfolio()"
   ]
  },
  {
   "cell_type": "code",
   "execution_count": null,
   "id": "5ef0d19b",
   "metadata": {},
   "outputs": [],
   "source": [
    "f1"
   ]
  },
  {
   "cell_type": "code",
   "execution_count": null,
   "id": "1a83f40c",
   "metadata": {},
   "outputs": [],
   "source": [
    "f2"
   ]
  },
  {
   "cell_type": "code",
   "execution_count": null,
   "id": "e2912bf0",
   "metadata": {},
   "outputs": [],
   "source": [
    "f3"
   ]
  },
  {
   "cell_type": "code",
   "execution_count": null,
   "id": "14444cfa",
   "metadata": {},
   "outputs": [],
   "source": [
    "f4"
   ]
  },
  {
   "cell_type": "markdown",
   "id": "40020995",
   "metadata": {},
   "source": [
    "## Bi-currency active strat "
   ]
  },
  {
   "cell_type": "code",
   "execution_count": null,
   "id": "2c6bc9d7",
   "metadata": {},
   "outputs": [],
   "source": [
    "bi_curr_strat = BiCurrencyActive(600, 12, 18, pool, 0.01,  0.0002, 0.0002)"
   ]
  },
  {
   "cell_type": "code",
   "execution_count": null,
   "id": "7fdd88c5",
   "metadata": {},
   "outputs": [],
   "source": [
    "b = Backtest(bi_curr_strat)\n",
    "portfolio_history, rebalance_history = b.backtest(data.swaps)"
   ]
  },
  {
   "cell_type": "code",
   "execution_count": null,
   "id": "a39a9d63",
   "metadata": {},
   "outputs": [],
   "source": [
    "stats_df_bicur_active = portfolio_history.portfolio_stats()"
   ]
  },
  {
   "cell_type": "code",
   "execution_count": null,
   "id": "038b678c",
   "metadata": {},
   "outputs": [],
   "source": []
  },
  {
   "cell_type": "code",
   "execution_count": null,
   "id": "0b0d93c9",
   "metadata": {},
   "outputs": [],
   "source": [
    "rv = RebalanceViewer(rebalance_history)\n",
    "rebalanses = rv.draw_rebalances(data.swaps)"
   ]
  },
  {
   "cell_type": "code",
   "execution_count": null,
   "id": "456c603b",
   "metadata": {},
   "outputs": [],
   "source": []
  },
  {
   "cell_type": "code",
   "execution_count": null,
   "id": "00825246",
   "metadata": {},
   "outputs": [],
   "source": [
    "fig1, fig2, fig3, fig4 = PotrfolioViewer(portfolio_history).draw_portfolio()"
   ]
  },
  {
   "cell_type": "code",
   "execution_count": null,
   "id": "50055669",
   "metadata": {},
   "outputs": [],
   "source": [
    "fig1"
   ]
  },
  {
   "cell_type": "code",
   "execution_count": null,
   "id": "d1ebddc0",
   "metadata": {},
   "outputs": [],
   "source": [
    "fig2"
   ]
  },
  {
   "cell_type": "code",
   "execution_count": null,
   "id": "a6e2ca34",
   "metadata": {},
   "outputs": [],
   "source": [
    "fig3"
   ]
  },
  {
   "cell_type": "code",
   "execution_count": null,
   "id": "2db25acd",
   "metadata": {},
   "outputs": [],
   "source": [
    "fig4"
   ]
  },
  {
   "cell_type": "markdown",
   "id": "167c2ed5",
   "metadata": {},
   "source": [
    "## Passive UniV3 strategy"
   ]
  },
  {
   "cell_type": "code",
   "execution_count": null,
   "id": "38c798a3",
   "metadata": {},
   "outputs": [],
   "source": [
    "univ3_passive = UniV3Passive(12, 18, pool, 0.01)"
   ]
  },
  {
   "cell_type": "code",
   "execution_count": null,
   "id": "ffa08c30",
   "metadata": {},
   "outputs": [],
   "source": [
    "b = Backtest(univ3_passive)\n",
    "portfolio_history, rebalance_history = b.backtest(data.swaps)"
   ]
  },
  {
   "cell_type": "code",
   "execution_count": null,
   "id": "36a48fcb",
   "metadata": {},
   "outputs": [],
   "source": [
    "rv = RebalanceViewer(rebalance_history)\n",
    "rebalanses = rv.draw_rebalances(data.swaps)"
   ]
  },
  {
   "cell_type": "code",
   "execution_count": null,
   "id": "c7965443",
   "metadata": {},
   "outputs": [],
   "source": [
    "rebalanses"
   ]
  },
  {
   "cell_type": "code",
   "execution_count": null,
   "id": "de285f56",
   "metadata": {},
   "outputs": [],
   "source": [
    "stats_df_univ3_passive = hist_univ3_passive.portfolio_stats()"
   ]
  },
  {
   "cell_type": "code",
   "execution_count": null,
   "id": "2c475eb8",
   "metadata": {},
   "outputs": [],
   "source": [
    "fig1, fig2, fig3, fig4 = PotrfolioViewer(portfolio_history).draw_portfolio()"
   ]
  },
  {
   "cell_type": "code",
   "execution_count": null,
   "id": "c4e7a4a6",
   "metadata": {},
   "outputs": [],
   "source": [
    "fig1"
   ]
  },
  {
   "cell_type": "code",
   "execution_count": null,
   "id": "f4cc28fd",
   "metadata": {},
   "outputs": [],
   "source": [
    "fig3"
   ]
  },
  {
   "cell_type": "code",
   "execution_count": null,
   "id": "9741a357",
   "metadata": {},
   "outputs": [],
   "source": []
  },
  {
   "cell_type": "code",
   "execution_count": null,
   "id": "7e5e2f0e",
   "metadata": {},
   "outputs": [],
   "source": [
    "fig2"
   ]
  },
  {
   "cell_type": "code",
   "execution_count": null,
   "id": "f42dca10",
   "metadata": {},
   "outputs": [],
   "source": [
    "fig4"
   ]
  },
  {
   "cell_type": "markdown",
   "id": "e40a5ffd",
   "metadata": {},
   "source": [
    "## Active UniV3 strategy"
   ]
  },
  {
   "cell_type": "code",
   "execution_count": null,
   "id": "6463d1fe",
   "metadata": {},
   "outputs": [],
   "source": []
  },
  {
   "cell_type": "code",
   "execution_count": null,
   "id": "11aa2785",
   "metadata": {},
   "outputs": [],
   "source": [
    "lower_0 = 11\n",
    "upper_0 = 19\n",
    "\n",
    "mint_tolerance = 10\n",
    "grid_width = 60\n",
    "width_num = 1\n",
    "# burn_num = 12\n",
    "\n",
    "# burn_tolerance = grid_width * grid_num - mint_tolerance\n",
    "# burn_tolerance = grid_width * (grid_num + burn_num) - mint_tolerance\n",
    "burn_tolerance = 590 \n",
    "\n",
    "univ3_active = UniV3Active(mint_tolerance, burn_tolerance, grid_width, width_num, lower_0, upper_0, pool, 0.01,)"
   ]
  },
  {
   "cell_type": "code",
   "execution_count": null,
   "id": "4d8a904b",
   "metadata": {
    "scrolled": true
   },
   "outputs": [],
   "source": [
    "b = Backtest(univ3_active)\n",
    "portfolio_history, rebalance_history = b.backtest(data.swaps)"
   ]
  },
  {
   "cell_type": "code",
   "execution_count": null,
   "id": "8565e384",
   "metadata": {},
   "outputs": [],
   "source": [
    "stats_df_univ3_active = hist_univ3_active.portfolio_stats()"
   ]
  },
  {
   "cell_type": "code",
   "execution_count": null,
   "id": "a1097050",
   "metadata": {},
   "outputs": [],
   "source": [
    "rv = RebalanceViewer(rebalance_history)\n",
    "rebalanses = rv.draw_rebalances(data.swaps)"
   ]
  },
  {
   "cell_type": "code",
   "execution_count": null,
   "id": "572a4b64",
   "metadata": {},
   "outputs": [],
   "source": [
    "rebalanses"
   ]
  },
  {
   "cell_type": "code",
   "execution_count": null,
   "id": "09f1ca10",
   "metadata": {},
   "outputs": [],
   "source": [
    "fig1, fig2, fig3, fig4 = PotrfolioViewer(portfolio_history).draw_portfolio()"
   ]
  },
  {
   "cell_type": "code",
   "execution_count": null,
   "id": "d0b8ead0",
   "metadata": {},
   "outputs": [],
   "source": [
    "fig1"
   ]
  },
  {
   "cell_type": "code",
   "execution_count": null,
   "id": "47697f57",
   "metadata": {},
   "outputs": [],
   "source": [
    "fig2"
   ]
  },
  {
   "cell_type": "code",
   "execution_count": null,
   "id": "2aeb775d",
   "metadata": {},
   "outputs": [],
   "source": [
    "fig3"
   ]
  },
  {
   "cell_type": "code",
   "execution_count": null,
   "id": "655660bf",
   "metadata": {},
   "outputs": [],
   "source": [
    "fig4"
   ]
  },
  {
   "cell_type": "code",
   "execution_count": null,
   "id": "029c4ff5",
   "metadata": {},
   "outputs": [],
   "source": []
  },
  {
   "cell_type": "code",
   "execution_count": null,
   "id": "030e3840",
   "metadata": {},
   "outputs": [],
   "source": []
  },
  {
   "cell_type": "markdown",
   "id": "3fe19ec1",
   "metadata": {},
   "source": [
    "## Aggregate results"
   ]
  },
  {
   "cell_type": "code",
   "execution_count": null,
   "id": "b1f227dd",
   "metadata": {},
   "outputs": [],
   "source": []
  },
  {
   "cell_type": "code",
   "execution_count": null,
   "id": "443f8f02",
   "metadata": {},
   "outputs": [],
   "source": [
    "import plotly.graph_objects as go\n",
    "from plotly.subplots import make_subplots"
   ]
  },
  {
   "cell_type": "code",
   "execution_count": null,
   "id": "3031573a",
   "metadata": {},
   "outputs": [],
   "source": [
    "# Portfolio Values\n",
    "fig = go.Figure()\n",
    "\n",
    "# fig.add_trace(\n",
    "#     go.Scatter(\n",
    "#         x=stats_df_sbc.index,\n",
    "#         y=stats_df_sbc['portfolio_value_to_y'],\n",
    "#         name=\"Bi-currency Simple\",\n",
    "#     ))\n",
    "\n",
    "fig.add_trace(\n",
    "    go.Scatter(\n",
    "        x=stats_df_bicur_active.index,\n",
    "        y=stats_df_bicur_active['portfolio_value_to_y'],\n",
    "        name='Bi-currency balanced 2100',\n",
    "    ))\n",
    "\n",
    "fig.add_trace(\n",
    "    go.Scatter(\n",
    "        x=stats_df_univ3_passive.index,\n",
    "        y=stats_df_univ3_passive['portfolio_value_to_y'],\n",
    "        name='UniV3 Passive',\n",
    "    ))\n",
    "\n",
    "fig.add_trace(\n",
    "    go.Scatter(\n",
    "        x=stats_df_univ3_active.index,\n",
    "        y=stats_df_univ3_active['portfolio_value_to_y'],\n",
    "        name='UniV3 Active',\n",
    "    ))\n",
    "\n",
    "fig.update_xaxes(title_text=\"Timeline\")\n",
    "fig.update_yaxes(title_text=\"Value to Y\")\n",
    "fig.update_layout(title='Portfolio Values to Y')"
   ]
  },
  {
   "cell_type": "code",
   "execution_count": null,
   "id": "cf8fb586",
   "metadata": {},
   "outputs": [],
   "source": [
    "# Portfolio Performances\n",
    "fig = go.Figure()\n",
    "\n",
    "# fig.add_trace(\n",
    "#     go.Scatter(\n",
    "#         x=stats_df_sbc.index,\n",
    "#         y=stats_df_sbc['portfolio_performance_to_y_to_year'],\n",
    "#         name=\"Bi-currency Simple\",\n",
    "#     ))\n",
    "\n",
    "fig.add_trace(\n",
    "    go.Scatter(\n",
    "        x=stats_df_bicur_active.index,\n",
    "        y=stats_df_bicur_active['portfolio_performance_to_y_to_year'],\n",
    "        name='Bi-currency balanced 2100',\n",
    "    ))\n",
    "\n",
    "fig.add_trace(\n",
    "    go.Scatter(\n",
    "        x=stats_df_univ3_passive.index,\n",
    "        y=stats_df_univ3_passive['portfolio_performance_to_y_to_year'],\n",
    "        name='UniV3 Passive',\n",
    "    ))\n",
    "\n",
    "fig.add_trace(\n",
    "    go.Scatter(\n",
    "        x=stats_df_univ3_active.index,\n",
    "        y=stats_df_univ3_active['portfolio_performance_to_y_to_year'],\n",
    "        name='UniV3 Active',\n",
    "    ))\n",
    "\n",
    "fig.update_xaxes(title_text=\"Timeline\")\n",
    "fig.update_yaxes(title_text=\"Performance in Y\")\n",
    "fig.update_layout(title='Portfolio Performances in Y')"
   ]
  },
  {
   "cell_type": "code",
   "execution_count": null,
   "id": "0391f7ac",
   "metadata": {},
   "outputs": [],
   "source": []
  },
  {
   "cell_type": "code",
   "execution_count": null,
   "id": "666113b6",
   "metadata": {},
   "outputs": [],
   "source": []
  },
  {
   "cell_type": "code",
   "execution_count": null,
   "id": "6543fb71",
   "metadata": {},
   "outputs": [],
   "source": []
  }
 ],
 "metadata": {
  "kernelspec": {
   "display_name": "Python 3 (ipykernel)",
   "language": "python",
   "name": "python3"
  },
  "language_info": {
   "codemirror_mode": {
    "name": "ipython",
    "version": 3
   },
   "file_extension": ".py",
   "mimetype": "text/x-python",
   "name": "python",
   "nbconvert_exporter": "python",
   "pygments_lexer": "ipython3",
   "version": "3.8.10"
  }
 },
 "nbformat": 4,
 "nbformat_minor": 5
}
