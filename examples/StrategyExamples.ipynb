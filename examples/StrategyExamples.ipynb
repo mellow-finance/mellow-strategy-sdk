{
 "cells": [
  {
   "cell_type": "code",
   "execution_count": null,
   "id": "f3688a9f",
   "metadata": {},
   "outputs": [],
   "source": [
    "import numpy as np\n",
    "import pandas as pd\n",
    "import math\n",
    "from matplotlib import pyplot as plt\n",
    "from decimal import Decimal"
   ]
  },
  {
   "cell_type": "code",
   "execution_count": null,
   "id": "b915626c",
   "metadata": {},
   "outputs": [],
   "source": [
    "import pandas_ta as ta\n",
    "import plotly.graph_objects as go\n",
    "from plotly.subplots import make_subplots\n",
    "from scipy import stats\n",
    "from scipy.signal import savgol_filter\n",
    "from sklearn.preprocessing import StandardScaler"
   ]
  },
  {
   "cell_type": "code",
   "execution_count": null,
   "id": "633a050a",
   "metadata": {},
   "outputs": [],
   "source": [
    "import os\n",
    "import sys\n",
    "\n",
    "root = os.path.split(os.getcwd())[0]\n",
    "if root not in sys.path:\n",
    "    sys.path.append(root)"
   ]
  },
  {
   "cell_type": "code",
   "execution_count": null,
   "id": "52bd9eb4",
   "metadata": {},
   "outputs": [],
   "source": [
    "%load_ext autoreload\n",
    "%autoreload 2\n",
    "from strategy.Positions import UniV3Position, BiCurrencyPosition\n",
    "from strategy.Portfolio import Portfolio\n",
    "from strategy.Data import PoolDataUniV3, RawDataUniV3, SyntheticData\n",
    "from strategy.Backtest import Backtest\n",
    "from strategy.History import PortfolioHistory\n",
    "from strategy.Strategies import BiCurrencyPassive, BiCurrencyActive, UniV3Passive, UniV3Active\n",
    "from strategy.Viewers import PotrfolioViewer, RebalanceViewer, UniswapViewer, LiqudityViewer\n",
    "from strategy.MultiStrategy import MultiStrategy\n",
    "from strategy.primitives import Pool, Token, Fee, Frequency"
   ]
  },
  {
   "cell_type": "code",
   "execution_count": null,
   "id": "f7515051",
   "metadata": {},
   "outputs": [],
   "source": [
    "def tick_to_price(tick, decimal_diff=10):\n",
    "    price = np.power(1.0001, tick) / 10 ** decimal_diff\n",
    "    return price\n",
    "\n",
    "def price_to_tick(price, decimal_diff=10):\n",
    "    tick = math.log(price, 1.0001) + decimal_diff * math.log(10, 1.0001)\n",
    "    return int(round(tick))"
   ]
  },
  {
   "cell_type": "code",
   "execution_count": null,
   "id": "e8a19852",
   "metadata": {},
   "outputs": [],
   "source": [
    "pool = Pool(Token.USDC, Token.WETH, Fee.LOW)"
   ]
  },
  {
   "cell_type": "code",
   "execution_count": null,
   "id": "a006ee50",
   "metadata": {},
   "outputs": [],
   "source": [
    "data = RawDataUniV3(pool).load_from_folder()"
   ]
  },
  {
   "cell_type": "code",
   "execution_count": null,
   "id": "aec84e31",
   "metadata": {},
   "outputs": [],
   "source": [
    "LiqudityViewer(data).draw_plot()"
   ]
  },
  {
   "cell_type": "code",
   "execution_count": null,
   "id": "7714e02b",
   "metadata": {},
   "outputs": [],
   "source": []
  },
  {
   "cell_type": "code",
   "execution_count": null,
   "id": "10df3f48",
   "metadata": {},
   "outputs": [],
   "source": [
    "data.swaps = data.swaps[0:100000]"
   ]
  },
  {
   "cell_type": "code",
   "execution_count": null,
   "id": "828cd963",
   "metadata": {},
   "outputs": [],
   "source": []
  },
  {
   "cell_type": "code",
   "execution_count": null,
   "id": "258e6b1b",
   "metadata": {},
   "outputs": [],
   "source": [
    "def preprocess_transactions(df_transactions, df_swaps):\n",
    "    df_transactions = df_transactions.rename(columns={'hash': 'tx_hash'})    \n",
    "    df_transactions_slice = df_transactions.loc[df_transactions['tx_hash'].isin(df_swaps['tx_hash'])]\n",
    "    \n",
    "    df_transactions_slice['tx_fee'] = df_transactions_slice.apply(lambda x: (Decimal(x['gas']) * Decimal(x['gas_price'])) / Decimal(10**18), axis=1)\n",
    "    df_transactions_slice['tx_fee'] = df_transactions_slice['tx_fee'].astype(float)\n",
    "    \n",
    "    df_transactions_slice['gas_price'] = df_transactions_slice.apply(lambda x: Decimal(x['gas_price']) / Decimal(10**9), axis=1)\n",
    "    \n",
    "    \n",
    "    swaps_full = df_swaps.reset_index().merge(df_transactions_slice, on=['tx_hash', 'block_number'], how='left')    \n",
    "    swaps_full = swaps_full.set_index('timestamp')\n",
    "    return swaps_full"
   ]
  },
  {
   "cell_type": "code",
   "execution_count": null,
   "id": "b8724483",
   "metadata": {},
   "outputs": [],
   "source": [
    "df_transactions = pd.read_csv('../data/all_transactions.csv')"
   ]
  },
  {
   "cell_type": "code",
   "execution_count": null,
   "id": "7c025619",
   "metadata": {},
   "outputs": [],
   "source": [
    "swaps_full = preprocess_transactions(df_transactions, data.swaps)"
   ]
  },
  {
   "cell_type": "code",
   "execution_count": null,
   "id": "dbd7f5a2",
   "metadata": {},
   "outputs": [],
   "source": [
    "base = swaps_full.resample('5min').size().to_frame('tx_num')\n",
    "base['mean_price'] = swaps_full.resample('5min')['price'].mean().ffill()\n",
    "base['total_amount1'] = swaps_full['amount1'].abs().resample('5min').sum()\n",
    "base['tx_fee'] = swaps_full.resample('5min')['tx_fee'].mean().fillna(0)"
   ]
  },
  {
   "cell_type": "code",
   "execution_count": null,
   "id": "53471ebc",
   "metadata": {},
   "outputs": [],
   "source": [
    "base"
   ]
  },
  {
   "cell_type": "markdown",
   "id": "3120848d",
   "metadata": {},
   "source": [
    "## Bi-currency passive strategy"
   ]
  },
  {
   "cell_type": "code",
   "execution_count": null,
   "id": "0fa34148",
   "metadata": {},
   "outputs": [],
   "source": [
    "bi_curr_strat = BiCurrencyPassive(pool)"
   ]
  },
  {
   "cell_type": "code",
   "execution_count": null,
   "id": "69698a02",
   "metadata": {},
   "outputs": [],
   "source": [
    "b = Backtest(bi_curr_strat)\n",
    "portfolio_history, rebalance_history, uni_history = b.backtest(data.swaps)"
   ]
  },
  {
   "cell_type": "code",
   "execution_count": null,
   "id": "b616b854",
   "metadata": {},
   "outputs": [],
   "source": [
    "stats_df_sbc = portfolio_history.portfolio_stats()"
   ]
  },
  {
   "cell_type": "code",
   "execution_count": null,
   "id": "f6b0ec45",
   "metadata": {},
   "outputs": [],
   "source": [
    "rv = RebalanceViewer(rebalance_history)"
   ]
  },
  {
   "cell_type": "code",
   "execution_count": null,
   "id": "39360ef0",
   "metadata": {},
   "outputs": [],
   "source": [
    "rebalanses = rv.draw_rebalances(data.swaps)"
   ]
  },
  {
   "cell_type": "code",
   "execution_count": null,
   "id": "8839636b",
   "metadata": {},
   "outputs": [],
   "source": [
    "rebalanses"
   ]
  },
  {
   "cell_type": "code",
   "execution_count": null,
   "id": "0884363f",
   "metadata": {},
   "outputs": [],
   "source": [
    "f1, f2, f3, f4 = PotrfolioViewer(portfolio_history).draw_portfolio()"
   ]
  },
  {
   "cell_type": "code",
   "execution_count": null,
   "id": "5ef0d19b",
   "metadata": {},
   "outputs": [],
   "source": [
    "f1"
   ]
  },
  {
   "cell_type": "code",
   "execution_count": null,
   "id": "1a83f40c",
   "metadata": {},
   "outputs": [],
   "source": [
    "f2"
   ]
  },
  {
   "cell_type": "code",
   "execution_count": null,
   "id": "e2912bf0",
   "metadata": {},
   "outputs": [],
   "source": [
    "f3"
   ]
  },
  {
   "cell_type": "code",
   "execution_count": null,
   "id": "14444cfa",
   "metadata": {},
   "outputs": [],
   "source": [
    "f4"
   ]
  },
  {
   "cell_type": "markdown",
   "id": "40020995",
   "metadata": {},
   "source": [
    "## Bi-currency active strat "
   ]
  },
  {
   "cell_type": "code",
   "execution_count": null,
   "id": "2c6bc9d7",
   "metadata": {},
   "outputs": [],
   "source": [
    "lower_0 = data.swaps['price'].min()\n",
    "upper_0 = data.swaps['price'].max()\n",
    "\n",
    "bi_curr_strat = BiCurrencyActive(1200, 400, lower_0, upper_0, pool, 0.01,  0.0002, 0.0002)"
   ]
  },
  {
   "cell_type": "code",
   "execution_count": null,
   "id": "7fdd88c5",
   "metadata": {},
   "outputs": [],
   "source": [
    "b = Backtest(bi_curr_strat)\n",
    "portfolio_history, rebalance_history, uni_history = b.backtest(data.swaps)"
   ]
  },
  {
   "cell_type": "code",
   "execution_count": null,
   "id": "a39a9d63",
   "metadata": {},
   "outputs": [],
   "source": [
    "stats_df_bicur_active = portfolio_history.portfolio_stats()"
   ]
  },
  {
   "cell_type": "code",
   "execution_count": null,
   "id": "038b678c",
   "metadata": {},
   "outputs": [],
   "source": []
  },
  {
   "cell_type": "code",
   "execution_count": null,
   "id": "0b0d93c9",
   "metadata": {},
   "outputs": [],
   "source": [
    "rv = RebalanceViewer(rebalance_history)\n",
    "rebalanses = rv.draw_rebalances(data.swaps)"
   ]
  },
  {
   "cell_type": "code",
   "execution_count": null,
   "id": "456c603b",
   "metadata": {},
   "outputs": [],
   "source": [
    "rebalanses"
   ]
  },
  {
   "cell_type": "code",
   "execution_count": null,
   "id": "00825246",
   "metadata": {},
   "outputs": [],
   "source": [
    "fig1, fig2, fig3, fig4 = PotrfolioViewer(portfolio_history).draw_portfolio()"
   ]
  },
  {
   "cell_type": "code",
   "execution_count": null,
   "id": "50055669",
   "metadata": {},
   "outputs": [],
   "source": [
    "fig1"
   ]
  },
  {
   "cell_type": "code",
   "execution_count": null,
   "id": "d1ebddc0",
   "metadata": {},
   "outputs": [],
   "source": [
    "fig2"
   ]
  },
  {
   "cell_type": "code",
   "execution_count": null,
   "id": "a6e2ca34",
   "metadata": {},
   "outputs": [],
   "source": [
    "fig3"
   ]
  },
  {
   "cell_type": "code",
   "execution_count": null,
   "id": "2db25acd",
   "metadata": {},
   "outputs": [],
   "source": [
    "fig4"
   ]
  },
  {
   "cell_type": "markdown",
   "id": "167c2ed5",
   "metadata": {},
   "source": [
    "## Passive UniV3 strategy"
   ]
  },
  {
   "cell_type": "code",
   "execution_count": null,
   "id": "38c798a3",
   "metadata": {},
   "outputs": [],
   "source": [
    "univ3_passive = UniV3Passive(12, 18, pool, 0.01)"
   ]
  },
  {
   "cell_type": "code",
   "execution_count": null,
   "id": "ffa08c30",
   "metadata": {},
   "outputs": [],
   "source": [
    "b = Backtest(univ3_passive)\n",
    "portfolio_history, rebalance_history, uni_history = b.backtest(data.swaps)"
   ]
  },
  {
   "cell_type": "code",
   "execution_count": null,
   "id": "36a48fcb",
   "metadata": {},
   "outputs": [],
   "source": [
    "rv = RebalanceViewer(rebalance_history)\n",
    "rebalanses = rv.draw_rebalances(data.swaps)"
   ]
  },
  {
   "cell_type": "code",
   "execution_count": null,
   "id": "c7965443",
   "metadata": {},
   "outputs": [],
   "source": [
    "rebalanses"
   ]
  },
  {
   "cell_type": "code",
   "execution_count": null,
   "id": "d3e7d833",
   "metadata": {},
   "outputs": [],
   "source": []
  },
  {
   "cell_type": "code",
   "execution_count": null,
   "id": "d30c8ffb",
   "metadata": {},
   "outputs": [],
   "source": [
    "uv = UniswapViewer(uni_history)\n",
    "uni_interval_fig = uv.draw_intervals(data.swaps)"
   ]
  },
  {
   "cell_type": "code",
   "execution_count": null,
   "id": "de285f56",
   "metadata": {},
   "outputs": [],
   "source": [
    "uni_interval_fig"
   ]
  },
  {
   "cell_type": "code",
   "execution_count": null,
   "id": "14108db6",
   "metadata": {},
   "outputs": [],
   "source": [
    "uni_history.get_coverage( data.swaps)"
   ]
  },
  {
   "cell_type": "code",
   "execution_count": null,
   "id": "2c475eb8",
   "metadata": {},
   "outputs": [],
   "source": [
    "fig1, fig2, fig3, fig4 = PotrfolioViewer(portfolio_history).draw_portfolio()"
   ]
  },
  {
   "cell_type": "code",
   "execution_count": null,
   "id": "c4e7a4a6",
   "metadata": {},
   "outputs": [],
   "source": [
    "fig1"
   ]
  },
  {
   "cell_type": "code",
   "execution_count": null,
   "id": "f4cc28fd",
   "metadata": {},
   "outputs": [],
   "source": [
    "fig3"
   ]
  },
  {
   "cell_type": "code",
   "execution_count": null,
   "id": "7e5e2f0e",
   "metadata": {},
   "outputs": [],
   "source": [
    "fig2"
   ]
  },
  {
   "cell_type": "code",
   "execution_count": null,
   "id": "f42dca10",
   "metadata": {},
   "outputs": [],
   "source": [
    "fig4"
   ]
  },
  {
   "cell_type": "markdown",
   "id": "8a64d972",
   "metadata": {},
   "source": [
    "### Composit strategy UniV3Passive + BiCurrensy Active"
   ]
  },
  {
   "cell_type": "code",
   "execution_count": null,
   "id": "0dfd1263",
   "metadata": {},
   "outputs": [],
   "source": [
    "bi_curr_strat = BiCurrencyActive(600, 200, 12, 18, pool, 0.01,  0.0002, 0.0002)\n",
    "univ3_passive = UniV3Passive(12, 18, pool, 0.01)"
   ]
  },
  {
   "cell_type": "code",
   "execution_count": null,
   "id": "600d871b",
   "metadata": {},
   "outputs": [],
   "source": [
    "ms = MultiStrategy('Multi', [bi_curr_strat, univ3_passive])"
   ]
  },
  {
   "cell_type": "code",
   "execution_count": null,
   "id": "7d97a861",
   "metadata": {},
   "outputs": [],
   "source": [
    "portfolio_history, rebalance_history, uni_history = Backtest(ms).backtest(data.swaps)"
   ]
  },
  {
   "cell_type": "code",
   "execution_count": null,
   "id": "56a2f48b",
   "metadata": {},
   "outputs": [],
   "source": []
  },
  {
   "cell_type": "code",
   "execution_count": null,
   "id": "13388dce",
   "metadata": {},
   "outputs": [],
   "source": [
    "rv = RebalanceViewer(rebalance_history)\n",
    "rebalanses = rv.draw_rebalances(data.swaps)"
   ]
  },
  {
   "cell_type": "code",
   "execution_count": null,
   "id": "e8973c0b",
   "metadata": {},
   "outputs": [],
   "source": [
    "rebalanses"
   ]
  },
  {
   "cell_type": "code",
   "execution_count": null,
   "id": "6e2fab56",
   "metadata": {},
   "outputs": [],
   "source": [
    "uv = UniswapViewer(uni_history)\n",
    "uni_interval_fig = uv.draw_intervals(data.swaps)"
   ]
  },
  {
   "cell_type": "code",
   "execution_count": null,
   "id": "4dda9c98",
   "metadata": {},
   "outputs": [],
   "source": [
    "uni_interval_fig"
   ]
  },
  {
   "cell_type": "code",
   "execution_count": null,
   "id": "1d0ef594",
   "metadata": {},
   "outputs": [],
   "source": [
    "uni_history.get_coverage( data.swaps)"
   ]
  },
  {
   "cell_type": "code",
   "execution_count": null,
   "id": "1f9f7ba1",
   "metadata": {},
   "outputs": [],
   "source": [
    "fig1, fig2, fig3, fig4 = PotrfolioViewer(portfolio_history).draw_portfolio()"
   ]
  },
  {
   "cell_type": "code",
   "execution_count": null,
   "id": "6be0d152",
   "metadata": {},
   "outputs": [],
   "source": [
    "fig2"
   ]
  },
  {
   "cell_type": "code",
   "execution_count": null,
   "id": "e88a2921",
   "metadata": {},
   "outputs": [],
   "source": [
    "fig4"
   ]
  },
  {
   "cell_type": "markdown",
   "id": "e40a5ffd",
   "metadata": {},
   "source": [
    "## Active UniV3 strategy"
   ]
  },
  {
   "cell_type": "code",
   "execution_count": null,
   "id": "2f52e044",
   "metadata": {},
   "outputs": [],
   "source": [
    "def rolling_normalized(df, col, window_size):\n",
    "    df_rolling = df[[col]].rolling(window_size).mean()\n",
    "    scaler = StandardScaler()\n",
    "    df_rolling_normed = scaler.fit_transform(df_rolling)\n",
    "    df_rolling[col] = df_rolling_normed\n",
    "    return df_rolling[col]"
   ]
  },
  {
   "cell_type": "code",
   "execution_count": null,
   "id": "6463d1fe",
   "metadata": {},
   "outputs": [],
   "source": [
    "signal_1 = np.sign(rolling_normalized(base, 'tx_fee', 288 * 14) - rolling_normalized(base, 'tx_fee', 288 * 3))"
   ]
  },
  {
   "cell_type": "code",
   "execution_count": null,
   "id": "11aa2785",
   "metadata": {},
   "outputs": [],
   "source": [
    "lower_0 = 11\n",
    "upper_0 = 19\n",
    "\n",
    "mint_tolerance = 10\n",
    "grid_width = 60\n",
    "width_num = 2\n",
    "# burn_num = 12\n",
    "\n",
    "# burn_tolerance = grid_width * grid_num - mint_tolerance\n",
    "# burn_tolerance = grid_width * (grid_num + burn_num) - mint_tolerance\n",
    "burn_tolerance = 360\n",
    "\n",
    "univ3_active = UniV3Active(signal_1,  burn_tolerance, grid_width, width_num, 200, lower_0, upper_0, pool, 0.01, 0.0002, 0.0002)"
   ]
  },
  {
   "cell_type": "code",
   "execution_count": null,
   "id": "e9b21c50",
   "metadata": {},
   "outputs": [],
   "source": [
    "bi_curr_strat = BiCurrencyActive(600, 200, 12, 18, pool, 0.01,  0.0002, 0.0002)\n",
    "ms = MultiStrategy('Multi', [bi_curr_strat, univ3_active])"
   ]
  },
  {
   "cell_type": "code",
   "execution_count": null,
   "id": "4d8a904b",
   "metadata": {
    "scrolled": true
   },
   "outputs": [],
   "source": [
    "portfolio_history, rebalance_history, uni_history = Backtest(ms).backtest(data.swaps)"
   ]
  },
  {
   "cell_type": "code",
   "execution_count": null,
   "id": "8565e384",
   "metadata": {},
   "outputs": [],
   "source": [
    "# stats_df_univ3_active = portfolio_history.portfolio_stats()"
   ]
  },
  {
   "cell_type": "code",
   "execution_count": null,
   "id": "a1097050",
   "metadata": {},
   "outputs": [],
   "source": [
    "rv = RebalanceViewer(rebalance_history)\n",
    "rebalanses = rv.draw_rebalances(data.swaps)"
   ]
  },
  {
   "cell_type": "code",
   "execution_count": null,
   "id": "572a4b64",
   "metadata": {},
   "outputs": [],
   "source": [
    "rebalanses"
   ]
  },
  {
   "cell_type": "code",
   "execution_count": null,
   "id": "09f1ca10",
   "metadata": {},
   "outputs": [],
   "source": [
    "fig1, fig2, fig3, fig4 = PotrfolioViewer(portfolio_history).draw_portfolio()"
   ]
  },
  {
   "cell_type": "code",
   "execution_count": null,
   "id": "d0b8ead0",
   "metadata": {},
   "outputs": [],
   "source": [
    "fig1"
   ]
  },
  {
   "cell_type": "code",
   "execution_count": null,
   "id": "47697f57",
   "metadata": {},
   "outputs": [],
   "source": [
    "fig2"
   ]
  },
  {
   "cell_type": "code",
   "execution_count": null,
   "id": "2aeb775d",
   "metadata": {},
   "outputs": [],
   "source": [
    "fig3"
   ]
  },
  {
   "cell_type": "code",
   "execution_count": null,
   "id": "655660bf",
   "metadata": {},
   "outputs": [],
   "source": [
    "fig4"
   ]
  },
  {
   "cell_type": "code",
   "execution_count": null,
   "id": "3aa5a53f",
   "metadata": {},
   "outputs": [],
   "source": []
  },
  {
   "cell_type": "code",
   "execution_count": null,
   "id": "96de223a",
   "metadata": {},
   "outputs": [],
   "source": [
    "uni_history.get_coverage(data.swaps)"
   ]
  },
  {
   "cell_type": "code",
   "execution_count": null,
   "id": "167ade75",
   "metadata": {},
   "outputs": [],
   "source": [
    "uv = UniswapViewer(uni_history)"
   ]
  },
  {
   "cell_type": "code",
   "execution_count": null,
   "id": "e02f0557",
   "metadata": {},
   "outputs": [],
   "source": [
    "uv.draw_intervals(data.swaps)"
   ]
  },
  {
   "cell_type": "code",
   "execution_count": null,
   "id": "57e3d4f6",
   "metadata": {},
   "outputs": [],
   "source": []
  },
  {
   "cell_type": "code",
   "execution_count": null,
   "id": "46f5a6c8",
   "metadata": {},
   "outputs": [],
   "source": []
  },
  {
   "cell_type": "code",
   "execution_count": null,
   "id": "030e3840",
   "metadata": {},
   "outputs": [],
   "source": []
  },
  {
   "cell_type": "markdown",
   "id": "3fe19ec1",
   "metadata": {},
   "source": [
    "## Aggregate results"
   ]
  },
  {
   "cell_type": "code",
   "execution_count": null,
   "id": "b1f227dd",
   "metadata": {},
   "outputs": [],
   "source": []
  },
  {
   "cell_type": "code",
   "execution_count": null,
   "id": "443f8f02",
   "metadata": {},
   "outputs": [],
   "source": [
    "import plotly.graph_objects as go\n",
    "from plotly.subplots import make_subplots"
   ]
  },
  {
   "cell_type": "code",
   "execution_count": null,
   "id": "3031573a",
   "metadata": {},
   "outputs": [],
   "source": [
    "# Portfolio Values\n",
    "fig = go.Figure()\n",
    "\n",
    "# fig.add_trace(\n",
    "#     go.Scatter(\n",
    "#         x=stats_df_sbc.index,\n",
    "#         y=stats_df_sbc['portfolio_value_to_y'],\n",
    "#         name=\"Bi-currency Simple\",\n",
    "#     ))\n",
    "\n",
    "fig.add_trace(\n",
    "    go.Scatter(\n",
    "        x=stats_df_bicur_active.index,\n",
    "        y=stats_df_bicur_active['portfolio_value_to_y'],\n",
    "        name='Bi-currency balanced 2100',\n",
    "    ))\n",
    "\n",
    "fig.add_trace(\n",
    "    go.Scatter(\n",
    "        x=stats_df_univ3_passive.index,\n",
    "        y=stats_df_univ3_passive['portfolio_value_to_y'],\n",
    "        name='UniV3 Passive',\n",
    "    ))\n",
    "\n",
    "fig.add_trace(\n",
    "    go.Scatter(\n",
    "        x=stats_df_univ3_active.index,\n",
    "        y=stats_df_univ3_active['portfolio_value_to_y'],\n",
    "        name='UniV3 Active',\n",
    "    ))\n",
    "\n",
    "fig.update_xaxes(title_text=\"Timeline\")\n",
    "fig.update_yaxes(title_text=\"Value to Y\")\n",
    "fig.update_layout(title='Portfolio Values to Y')"
   ]
  },
  {
   "cell_type": "code",
   "execution_count": null,
   "id": "cf8fb586",
   "metadata": {},
   "outputs": [],
   "source": [
    "# Portfolio Performances\n",
    "fig = go.Figure()\n",
    "\n",
    "# fig.add_trace(\n",
    "#     go.Scatter(\n",
    "#         x=stats_df_sbc.index,\n",
    "#         y=stats_df_sbc['portfolio_performance_to_y_to_year'],\n",
    "#         name=\"Bi-currency Simple\",\n",
    "#     ))\n",
    "\n",
    "fig.add_trace(\n",
    "    go.Scatter(\n",
    "        x=stats_df_bicur_active.index,\n",
    "        y=stats_df_bicur_active['portfolio_performance_to_y_to_year'],\n",
    "        name='Bi-currency balanced 2100',\n",
    "    ))\n",
    "\n",
    "fig.add_trace(\n",
    "    go.Scatter(\n",
    "        x=stats_df_univ3_passive.index,\n",
    "        y=stats_df_univ3_passive['portfolio_performance_to_y_to_year'],\n",
    "        name='UniV3 Passive',\n",
    "    ))\n",
    "\n",
    "fig.add_trace(\n",
    "    go.Scatter(\n",
    "        x=stats_df_univ3_active.index,\n",
    "        y=stats_df_univ3_active['portfolio_performance_to_y_to_year'],\n",
    "        name='UniV3 Active',\n",
    "    ))\n",
    "\n",
    "fig.update_xaxes(title_text=\"Timeline\")\n",
    "fig.update_yaxes(title_text=\"Performance in Y\")\n",
    "fig.update_layout(title='Portfolio Performances in Y')"
   ]
  },
  {
   "cell_type": "code",
   "execution_count": null,
   "id": "57710d83",
   "metadata": {},
   "outputs": [],
   "source": []
  },
  {
   "cell_type": "code",
   "execution_count": null,
   "id": "1a80142a",
   "metadata": {},
   "outputs": [],
   "source": []
  },
  {
   "cell_type": "code",
   "execution_count": null,
   "id": "ea9716de",
   "metadata": {},
   "outputs": [],
   "source": [
    "signal_1 = np.sign(rolling_normalized(base, 'tx_num', 288 * 14) - rolling_normalized(base, 'tx_num', 288 * 3))"
   ]
  },
  {
   "cell_type": "code",
   "execution_count": null,
   "id": "f6cb5012",
   "metadata": {},
   "outputs": [],
   "source": []
  },
  {
   "cell_type": "code",
   "execution_count": null,
   "id": "fbcdcbd2",
   "metadata": {},
   "outputs": [],
   "source": [
    "signal_1 = signal_1.fillna(0)"
   ]
  },
  {
   "cell_type": "code",
   "execution_count": null,
   "id": "a030aca8",
   "metadata": {},
   "outputs": [],
   "source": [
    "fig = make_subplots(specs=[[{\"secondary_y\": True}]])\n",
    "\n",
    "\n",
    "fig.add_trace(\n",
    "    go.Scatter(\n",
    "        x=signal_1.index,\n",
    "        y=signal_1,\n",
    "        name=\"signal\",\n",
    "    ))\n",
    "\n",
    "fig.add_trace(\n",
    "    go.Scatter(\n",
    "        x=base.index,\n",
    "        y=rolling_normalized(base, 'tx_num', 288 * 3),\n",
    "        name=\"tx_num sum, narrow\",\n",
    "    ))\n",
    "\n",
    "fig.add_trace(\n",
    "    go.Scatter(\n",
    "        x=base.index,\n",
    "        y=rolling_normalized(base, 'tx_num', 288 * 14),\n",
    "        name=\"tx_num sum, wide\",\n",
    "    ))\n",
    "\n",
    "fig.add_trace(\n",
    "    go.Scatter(\n",
    "        x=base.index,\n",
    "        y=base['mean_price'],\n",
    "        name=\"Price\",\n",
    "    ), secondary_y=True)\n",
    "\n"
   ]
  },
  {
   "cell_type": "code",
   "execution_count": null,
   "id": "1edda731",
   "metadata": {},
   "outputs": [],
   "source": []
  },
  {
   "cell_type": "code",
   "execution_count": null,
   "id": "6a0f4fcb",
   "metadata": {},
   "outputs": [],
   "source": [
    "signal_2 = np.sign(rolling_normalized(base, 'tx_fee', 288 * 9) - rolling_normalized(base, 'tx_fee', 288 * 3))"
   ]
  },
  {
   "cell_type": "code",
   "execution_count": null,
   "id": "d6f1b1d1",
   "metadata": {},
   "outputs": [],
   "source": [
    "fig = make_subplots(specs=[[{\"secondary_y\": True}]])\n",
    "\n",
    "fig.add_trace(\n",
    "    go.Scatter(\n",
    "        x=signal_2.index,\n",
    "        y=signal_2,\n",
    "        name=\"signal\",\n",
    "    ))\n",
    "\n",
    "\n",
    "fig.add_trace(\n",
    "    go.Scatter(\n",
    "        x=base.index,\n",
    "        y=rolling_normalized(base, 'tx_fee', 288 * 3),\n",
    "        name=\"tx_fee sum, narrow\",\n",
    "    ))\n",
    "\n",
    "fig.add_trace(\n",
    "    go.Scatter(\n",
    "        x=base.index,\n",
    "        y=rolling_normalized(base, 'tx_fee', 288 * 9),\n",
    "        name=\"tx_fee sum, wide\",\n",
    "    ))\n",
    "\n",
    "fig.add_trace(\n",
    "    go.Scatter(\n",
    "        x=base.index,\n",
    "        y=base['mean_price'],\n",
    "        name=\"Price\",\n",
    "    ), secondary_y=True)\n",
    "\n"
   ]
  },
  {
   "cell_type": "code",
   "execution_count": null,
   "id": "0d5f73b0",
   "metadata": {},
   "outputs": [],
   "source": [
    "signal_3 = np.sign(rolling_normalized(base, 'total_amount1', 288 * 14) - rolling_normalized(base, 'total_amount1', 288 * 3))"
   ]
  },
  {
   "cell_type": "code",
   "execution_count": null,
   "id": "45b47d1b",
   "metadata": {},
   "outputs": [],
   "source": [
    "fig = make_subplots(specs=[[{\"secondary_y\": True}]])\n",
    "\n",
    "fig.add_trace(\n",
    "    go.Scatter(\n",
    "        x=signal_3.index,\n",
    "        y=signal_3,\n",
    "        name=\"signal\",\n",
    "    ))\n",
    "\n",
    "fig.add_trace(\n",
    "    go.Scatter(\n",
    "        x=base.index,\n",
    "        y=rolling_normalized(base, 'total_amount1', 288 * 3),\n",
    "        name=\"total_amount sum, narrow\",\n",
    "    ))\n",
    "\n",
    "fig.add_trace(\n",
    "    go.Scatter(\n",
    "        x=base.index,\n",
    "        y=rolling_normalized(base, 'total_amount1', 288 * 14),\n",
    "        name=\"total_amount sum, wide\",\n",
    "    ))\n",
    "\n",
    "fig.add_trace(\n",
    "    go.Scatter(\n",
    "        x=base.index,\n",
    "        y=base['mean_price'],\n",
    "        name=\"Price\",\n",
    "    ), secondary_y=True)\n"
   ]
  },
  {
   "cell_type": "code",
   "execution_count": null,
   "id": "2261d65e",
   "metadata": {},
   "outputs": [],
   "source": []
  },
  {
   "cell_type": "code",
   "execution_count": null,
   "id": "81447c3d",
   "metadata": {},
   "outputs": [],
   "source": [
    "signal_4 = np.sign(rolling_normalized(base, 'mean_price', 288 * 7) - rolling_normalized(base, 'mean_price', 288 * 3))"
   ]
  },
  {
   "cell_type": "code",
   "execution_count": null,
   "id": "4d0725f6",
   "metadata": {},
   "outputs": [],
   "source": [
    "fig = make_subplots(specs=[[{\"secondary_y\": True}]])\n",
    "\n",
    "fig.add_trace(\n",
    "    go.Scatter(\n",
    "        x=signal_4.index,\n",
    "        y=signal_4,\n",
    "        name=\"signal\",\n",
    "    ))\n",
    "\n",
    "fig.add_trace(\n",
    "    go.Scatter(\n",
    "        x=base.index,\n",
    "        y=rolling_normalized(base, 'mean_price', 288 * 3),\n",
    "        name=\"total_amount sum, narrow\",\n",
    "    ))\n",
    "\n",
    "fig.add_trace(\n",
    "    go.Scatter(\n",
    "        x=base.index,\n",
    "        y=rolling_normalized(base, 'mean_price', 288 * 7),\n",
    "        name=\"total_amount sum, wide\",\n",
    "    ))\n",
    "\n",
    "fig.add_trace(\n",
    "    go.Scatter(\n",
    "        x=base.index,\n",
    "        y=base['mean_price'],\n",
    "        name=\"Price\",\n",
    "    ), secondary_y=True)"
   ]
  },
  {
   "cell_type": "code",
   "execution_count": null,
   "id": "8773aa43",
   "metadata": {},
   "outputs": [],
   "source": []
  },
  {
   "cell_type": "code",
   "execution_count": null,
   "id": "251be8e0",
   "metadata": {},
   "outputs": [],
   "source": [
    "signal_5 = signal_1 + signal_2 \n",
    "signal_5 = signal_5 == signal_5.max()"
   ]
  },
  {
   "cell_type": "code",
   "execution_count": null,
   "id": "855efe69",
   "metadata": {},
   "outputs": [],
   "source": [
    "fig = make_subplots(specs=[[{\"secondary_y\": True}]])\n",
    "\n",
    "fig.add_trace(\n",
    "    go.Scatter(\n",
    "        x=signal_4.index,\n",
    "        y=signal_4,\n",
    "        name=\"signal\",\n",
    "    ))\n",
    "\n",
    "\n",
    "fig.add_trace(\n",
    "    go.Scatter(\n",
    "        x=base.index,\n",
    "        y=base['mean_price'],\n",
    "        name=\"Price\",\n",
    "    ), secondary_y=True)\n"
   ]
  },
  {
   "cell_type": "code",
   "execution_count": null,
   "id": "03a7f9ae",
   "metadata": {},
   "outputs": [],
   "source": [
    "signal_4"
   ]
  },
  {
   "cell_type": "code",
   "execution_count": null,
   "id": "76830580",
   "metadata": {},
   "outputs": [],
   "source": [
    "for idx, row in swaps[1000:1010].iterrows():\n",
    "    print(idx)\n",
    "    print(signal_4[])"
   ]
  },
  {
   "cell_type": "code",
   "execution_count": null,
   "id": "51d40f0b",
   "metadata": {},
   "outputs": [],
   "source": [
    "signal_4.index[signal_4.index.get_loc(idx, method='nearest')]"
   ]
  },
  {
   "cell_type": "code",
   "execution_count": null,
   "id": "3526b607",
   "metadata": {},
   "outputs": [],
   "source": [
    "signal_4[pd.Timestamp('2021-11-04 04:15:00')]"
   ]
  },
  {
   "cell_type": "code",
   "execution_count": null,
   "id": "7a3d1bb7",
   "metadata": {},
   "outputs": [],
   "source": [
    "signal_4"
   ]
  },
  {
   "cell_type": "code",
   "execution_count": null,
   "id": "2e14c686",
   "metadata": {},
   "outputs": [],
   "source": []
  }
 ],
 "metadata": {
  "kernelspec": {
   "display_name": "Python 3 (ipykernel)",
   "language": "python",
   "name": "python3"
  },
  "language_info": {
   "codemirror_mode": {
    "name": "ipython",
    "version": 3
   },
   "file_extension": ".py",
   "mimetype": "text/x-python",
   "name": "python",
   "nbconvert_exporter": "python",
   "pygments_lexer": "ipython3",
   "version": "3.8.10"
  }
 },
 "nbformat": 4,
 "nbformat_minor": 5
}
