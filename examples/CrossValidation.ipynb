{
 "cells": [
  {
   "cell_type": "code",
   "execution_count": null,
   "id": "8fa2a2cf",
   "metadata": {},
   "outputs": [],
   "source": [
    "import numpy as np\n",
    "import pandas as pd\n",
    "import math\n",
    "from sklearn.model_selection import KFold, train_test_split, TimeSeriesSplit"
   ]
  },
  {
   "cell_type": "code",
   "execution_count": null,
   "id": "25e2ddd9",
   "metadata": {},
   "outputs": [],
   "source": [
    "import os\n",
    "import sys\n",
    "\n",
    "root = os.path.split(os.getcwd())[0]\n",
    "if root not in sys.path:\n",
    "    sys.path.append(root)"
   ]
  },
  {
   "cell_type": "code",
   "execution_count": null,
   "id": "845f2460",
   "metadata": {},
   "outputs": [],
   "source": [
    "%load_ext autoreload\n",
    "%autoreload 2\n",
    "from strategy.Positions import AbstractPosition, UniV3Position, BiCurrencyPosition\n",
    "from strategy.Portfolio import Portfolio\n",
    "from strategy.Data import PoolDataUniV3\n",
    "from strategy.Backtest import AbstractStrategy, Backtest\n",
    "from strategy.History import PortfolioHistory\n",
    "from strategy.Strategies import BiCurrencyActive, BiCurrencyPassive, UniV3Passive, UniV3Active\n",
    "from strategy.Viewers import PotrfolioViewer\n",
    "from strategy.CrossValidation import FolderSimple, CrossValidation\n",
    "\n",
    "from strategy import  Pool, Token, Fee, Frequency"
   ]
  },
  {
   "cell_type": "code",
   "execution_count": null,
   "id": "5efaed95",
   "metadata": {},
   "outputs": [],
   "source": [
    "def tick_to_price(tick, decimal_diff=10):\n",
    "    price = np.power(1.0001, tick) / 10 ** decimal_diff\n",
    "    return price\n",
    "\n",
    "def price_to_tick(price, decimal_diff=10):\n",
    "    tick = math.log(price, 1.0001) + decimal_diff * math.log(10, 1.0001)\n",
    "    return int(round(tick))"
   ]
  },
  {
   "cell_type": "code",
   "execution_count": null,
   "id": "b6c09d32",
   "metadata": {},
   "outputs": [],
   "source": [
    "pool = Pool(Token.WBTC, Token.WETH, Fee.MIDDLE)"
   ]
  },
  {
   "cell_type": "code",
   "execution_count": null,
   "id": "ce930179",
   "metadata": {},
   "outputs": [],
   "source": [
    "data = PoolDataUniV3.from_folder(pool)\n",
    "data.preprocess()"
   ]
  },
  {
   "cell_type": "code",
   "execution_count": null,
   "id": "6af6a8ad",
   "metadata": {},
   "outputs": [],
   "source": [
    "swaps = data.swaps"
   ]
  },
  {
   "cell_type": "code",
   "execution_count": null,
   "id": "430ec930",
   "metadata": {},
   "outputs": [],
   "source": [
    "def tick_to_price(tick, decimal_diff=10):\n",
    "    price = np.power(1.0001, tick) / 10 ** decimal_diff\n",
    "    return price\n",
    "\n",
    "def price_to_tick(price, decimal_diff=10):\n",
    "    tick = math.log(price, 1.0001) + decimal_diff * math.log(10, 1.0001)\n",
    "    return int(round(tick))"
   ]
  },
  {
   "cell_type": "code",
   "execution_count": null,
   "id": "8a453523",
   "metadata": {},
   "outputs": [],
   "source": [
    "mint_tolerance = 30\n",
    "grid_width = 60\n",
    "grid_num = 1\n",
    "burn_num = 12\n",
    "\n",
    "# burn_tolerance = grid_width * grid_num - mint_tolerance\n",
    "burn_tolerance = grid_width * (grid_num + burn_num) - mint_tolerance\n",
    "\n",
    "univ3_active = UniV3Active(mint_tolerance, burn_tolerance, grid_width, grid_num, 12, 18, pool, 0.01)"
   ]
  },
  {
   "cell_type": "code",
   "execution_count": null,
   "id": "028c2e8f",
   "metadata": {},
   "outputs": [],
   "source": [
    "# univ3_passive = UniV3Passive(12, 18, pool, 0.01)"
   ]
  },
  {
   "cell_type": "code",
   "execution_count": null,
   "id": "2a78497d",
   "metadata": {},
   "outputs": [],
   "source": [
    "bi_curr_strat = BiCurrencyActive(2100, 12, 18, pool, 0.01)"
   ]
  },
  {
   "cell_type": "code",
   "execution_count": null,
   "id": "0c90d225",
   "metadata": {},
   "outputs": [],
   "source": []
  },
  {
   "cell_type": "code",
   "execution_count": null,
   "id": "c7102575",
   "metadata": {},
   "outputs": [],
   "source": []
  },
  {
   "cell_type": "code",
   "execution_count": null,
   "id": "a79a35e3",
   "metadata": {},
   "outputs": [],
   "source": [
    "cv = CrossValidation(FolderSimple(), bi_curr_strat)"
   ]
  },
  {
   "cell_type": "code",
   "execution_count": null,
   "id": "078fcffd",
   "metadata": {},
   "outputs": [],
   "source": [
    "folds_result = cv.backtest(data)"
   ]
  },
  {
   "cell_type": "code",
   "execution_count": null,
   "id": "9c2a7c66",
   "metadata": {},
   "outputs": [],
   "source": [
    "cv_res = cv.aggregate(folds_result)"
   ]
  },
  {
   "cell_type": "code",
   "execution_count": null,
   "id": "4562f658",
   "metadata": {},
   "outputs": [],
   "source": [
    "cv_res.plot.bar()"
   ]
  },
  {
   "cell_type": "code",
   "execution_count": null,
   "id": "4723e8ed",
   "metadata": {},
   "outputs": [],
   "source": [
    "cv_res.mean()"
   ]
  },
  {
   "cell_type": "code",
   "execution_count": null,
   "id": "bf2b43e8",
   "metadata": {},
   "outputs": [],
   "source": []
  },
  {
   "cell_type": "code",
   "execution_count": null,
   "id": "e3e5a53d",
   "metadata": {},
   "outputs": [],
   "source": [
    "f1, f2, f3, f4 = PotrfolioViewer(folds_result['fold_5']).draw_portfolio()"
   ]
  },
  {
   "cell_type": "code",
   "execution_count": null,
   "id": "89e226c4",
   "metadata": {},
   "outputs": [],
   "source": [
    "f2"
   ]
  },
  {
   "cell_type": "code",
   "execution_count": null,
   "id": "11786c10",
   "metadata": {},
   "outputs": [],
   "source": [
    "f4"
   ]
  },
  {
   "cell_type": "code",
   "execution_count": null,
   "id": "2634eeeb",
   "metadata": {},
   "outputs": [],
   "source": []
  },
  {
   "cell_type": "code",
   "execution_count": null,
   "id": "24b236a5",
   "metadata": {},
   "outputs": [],
   "source": [
    "swaps['date'] = swaps.reset_index()['timestamp'].dt.normalize().to_numpy()"
   ]
  },
  {
   "cell_type": "code",
   "execution_count": null,
   "id": "11b522bc",
   "metadata": {},
   "outputs": [],
   "source": [
    "swaps.groupby('date')['tick'].std().rolling(7).mean().plot()"
   ]
  },
  {
   "cell_type": "code",
   "execution_count": null,
   "id": "1336f4ab",
   "metadata": {},
   "outputs": [],
   "source": [
    "(swaps.groupby('date')['tick'].max() - swaps.groupby('date')['tick'].min()).rolling(7).mean().plot()"
   ]
  },
  {
   "cell_type": "code",
   "execution_count": null,
   "id": "b21c1ca7",
   "metadata": {},
   "outputs": [],
   "source": []
  }
 ],
 "metadata": {
  "kernelspec": {
   "display_name": "Python 3 (ipykernel)",
   "language": "python",
   "name": "python3"
  },
  "language_info": {
   "codemirror_mode": {
    "name": "ipython",
    "version": 3
   },
   "file_extension": ".py",
   "mimetype": "text/x-python",
   "name": "python",
   "nbconvert_exporter": "python",
   "pygments_lexer": "ipython3",
   "version": "3.8.10"
  }
 },
 "nbformat": 4,
 "nbformat_minor": 5
}
