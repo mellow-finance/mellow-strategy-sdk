{
 "cells": [
  {
   "cell_type": "code",
   "execution_count": null,
   "id": "d9f30a3d-f75d-48f6-9715-48ec32845ede",
   "metadata": {},
   "outputs": [],
   "source": [
    "# python3 -m venv .venv\n",
    "# source .venv/bin/activate\n",
    "# pip install mellow_strategy_sdk"
   ]
  },
  {
   "cell_type": "code",
   "execution_count": null,
   "id": "7da4b81c-d00c-42ac-8357-7f693754ab1b",
   "metadata": {},
   "outputs": [],
   "source": [
    "%load_ext autoreload\n",
    "%autoreload 2\n",
    "from mellow_sdk.backtest import Backtest\n",
    "from mellow_sdk.data import RawDataUniV3\n",
    "from mellow_sdk.portfolio import Portfolio\n",
    "from mellow_sdk.positions import BiCurrencyPosition\n",
    "from mellow_sdk.viewers import PortfolioViewer, RebalanceViewer, UniswapViewer, LiquidityViewer\n",
    "from mellow_sdk.strategies import StrategyByAddress\n",
    "from mellow_sdk.primitives import Pool, Token, Fee"
   ]
  },
  {
   "cell_type": "markdown",
   "id": "1ee0e2ab-fa38-4774-96d1-fc08bb20a8fe",
   "metadata": {},
   "source": [
    "## Load data"
   ]
  },
  {
   "cell_type": "code",
   "execution_count": null,
   "id": "12776832",
   "metadata": {},
   "outputs": [],
   "source": [
    "pool = Pool(Token.WBTC, Token.WETH, Fee.MIDDLE)\n",
    "data = RawDataUniV3(pool, 'data', reload_data=False).load_from_folder()"
   ]
  },
  {
   "cell_type": "markdown",
   "id": "db2b4acf-ff95-49fb-bd8a-c55a7eab8366",
   "metadata": {},
   "source": [
    "### Visualise price and liquidity"
   ]
  },
  {
   "cell_type": "code",
   "execution_count": null,
   "id": "4463309e-fd18-4f36-9749-33e68bd88abd",
   "metadata": {},
   "outputs": [],
   "source": [
    "LiquidityViewer(pool, data).draw_plot()"
   ]
  },
  {
   "cell_type": "markdown",
   "id": "54065b1c-8d4e-437a-be3d-29d30e192612",
   "metadata": {},
   "source": [
    "### Let's follow some address"
   ]
  },
  {
   "cell_type": "code",
   "execution_count": null,
   "metadata": {
    "collapsed": false,
    "pycharm": {
     "name": "#%%\n"
    }
   },
   "outputs": [],
   "source": [
    "# StrategyByAddress is the strategy on UniswapV3 that follows the actions of certain address,\n",
    "# e.g. mint the same ampount of tokens on the same interval, then burn the same amount of liquidity etc."
   ]
  },
  {
   "cell_type": "code",
   "execution_count": null,
   "id": "bb6500d3-2f5a-4d01-8ea6-e1586bed9889",
   "metadata": {},
   "outputs": [],
   "source": [
    "address = '0x212Aa024E25A9C9bAF5b5397B558B7ccea81740B'"
   ]
  },
  {
   "cell_type": "code",
   "execution_count": null,
   "id": "0b35ee21-0b29-402b-9929-d82b775c8f3d",
   "metadata": {},
   "outputs": [],
   "source": [
    "portfolio = Portfolio('main')\n",
    "bicurrency = BiCurrencyPosition('Vault', pool.fee.percent, 0.01, 0, 0, None, None)\n",
    "portfolio.append(bicurrency)\n",
    "strat = StrategyByAddress(address, pool, 0.01)"
   ]
  },
  {
   "cell_type": "markdown",
   "id": "4faa5ac0-3d1b-43e0-8561-a571919b024d",
   "metadata": {},
   "source": [
    "### Backtest actions of this address  "
   ]
  },
  {
   "cell_type": "code",
   "execution_count": null,
   "id": "6c923d83-02d7-4297-a5e5-04cbca52416d",
   "metadata": {
    "scrolled": true,
    "tags": []
   },
   "outputs": [],
   "source": [
    "portfolio_history, rebalance_history, uni_history = Backtest(strat, portfolio).backtest(data.full_df)"
   ]
  },
  {
   "cell_type": "markdown",
   "id": "00c70f47-665f-481a-9225-12253e23f0c6",
   "metadata": {},
   "source": [
    "### Visualise rebalanses"
   ]
  },
  {
   "cell_type": "code",
   "execution_count": null,
   "id": "7161be03-230a-4538-bd8c-5a6dd8fb1702",
   "metadata": {},
   "outputs": [],
   "source": [
    "rv = RebalanceViewer(rebalance_history)\n",
    "rebalanses = rv.draw_rebalances(data.full_df)"
   ]
  },
  {
   "cell_type": "code",
   "execution_count": null,
   "id": "b001c985-e545-4303-873e-be845d2e5fc2",
   "metadata": {},
   "outputs": [],
   "source": [
    "rebalanses.show()"
   ]
  },
  {
   "cell_type": "markdown",
   "id": "2104f7aa-60b2-4966-ac7a-64d942fb8ab7",
   "metadata": {},
   "source": [
    "### Visualise UniswapV3 intervals"
   ]
  },
  {
   "cell_type": "code",
   "execution_count": null,
   "id": "fc9e893f-814e-44d1-b415-306088e11c78",
   "metadata": {},
   "outputs": [],
   "source": [
    "uv = UniswapViewer(uni_history)\n",
    "uni_interval_fig = uv.draw_intervals(data.full_df)"
   ]
  },
  {
   "cell_type": "code",
   "execution_count": null,
   "id": "8eac0233-3ea3-40cd-8509-d8478482409e",
   "metadata": {},
   "outputs": [],
   "source": [
    "uni_interval_fig.show()"
   ]
  },
  {
   "cell_type": "markdown",
   "id": "2161dc90-3cc1-46d3-b6e6-8e5ec7200f0d",
   "metadata": {},
   "source": [
    "### Visualise portfolio stats"
   ]
  },
  {
   "cell_type": "code",
   "execution_count": null,
   "id": "7c9f4ae9-f3b9-4af0-83d2-ef6e7b463f10",
   "metadata": {},
   "outputs": [],
   "source": [
    "fig1, fig2, fig3, fig4, fig5, fig6 = PortfolioViewer(portfolio_history, pool, 0).draw_portfolio()"
   ]
  },
  {
   "cell_type": "code",
   "execution_count": null,
   "id": "1167c5c4-b320-4e4e-8d04-9ccce40dff2c",
   "metadata": {},
   "outputs": [],
   "source": [
    "fig1.show()"
   ]
  },
  {
   "cell_type": "code",
   "execution_count": null,
   "id": "295be0ae-c253-46c5-b78c-f65140d94dbd",
   "metadata": {},
   "outputs": [],
   "source": [
    "fig2.show()"
   ]
  },
  {
   "cell_type": "code",
   "execution_count": null,
   "id": "bdac5b72-d3f5-40fb-9693-cc41423d1450",
   "metadata": {},
   "outputs": [],
   "source": [
    "fig3.show()"
   ]
  },
  {
   "cell_type": "code",
   "execution_count": null,
   "id": "d78c4b61-4d1f-4d9e-a9b7-a822d4455175",
   "metadata": {},
   "outputs": [],
   "source": [
    "fig4.show()"
   ]
  },
  {
   "cell_type": "code",
   "execution_count": null,
   "id": "a6174cad-2c77-49b2-b92f-563db7ac2770",
   "metadata": {},
   "outputs": [],
   "source": [
    "fig5.show()"
   ]
  },
  {
   "cell_type": "code",
   "execution_count": null,
   "id": "9a2fd863-cce5-4923-8fd4-778d09241a28",
   "metadata": {},
   "outputs": [],
   "source": [
    "fig6.show()"
   ]
  }
 ],
 "metadata": {
  "kernelspec": {
   "display_name": "Python 3 (ipykernel)",
   "language": "python",
   "name": "python3"
  },
  "language_info": {
   "codemirror_mode": {
    "name": "ipython",
    "version": 3
   },
   "file_extension": ".py",
   "mimetype": "text/x-python",
   "name": "python",
   "nbconvert_exporter": "python",
   "pygments_lexer": "ipython3",
   "version": "3.9.7"
  }
 },
 "nbformat": 4,
 "nbformat_minor": 5
}