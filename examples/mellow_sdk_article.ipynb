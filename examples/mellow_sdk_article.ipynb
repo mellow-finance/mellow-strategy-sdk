{
 "cells": [
  {
   "cell_type": "code",
   "execution_count": null,
   "id": "e4dfc092",
   "metadata": {},
   "outputs": [],
   "source": [
    "# python3 -m venv .venv\n",
    "# source .venv/bin/activate\n",
    "# pip install mellow_strategy_sdk"
   ]
  },
  {
   "cell_type": "code",
   "execution_count": null,
   "id": "b7f2fe63",
   "metadata": {},
   "outputs": [],
   "source": [
    "%load_ext autoreload\n",
    "%autoreload 2\n",
    "\n",
    "import pandas as pd\n",
    "import polars as pl\n",
    "pd.set_option('display.max_colwidth', 70) # to fit hashes\n",
    "\n",
    "\n",
    "from mellow_sdk.primitives import Pool, POOLS, MIN_TICK, MAX_TICK\n",
    "from mellow_sdk.data import RawDataUniV3\n",
    "from mellow_sdk.strategies import AbstractStrategy, UniV3Passive\n",
    "from mellow_sdk.backtest import Backtest\n",
    "from mellow_sdk.positions import BiCurrencyPosition, UniV3Position\n",
    "from mellow_sdk.viewers import PortfolioViewer, UniswapViewer, RebalanceViewer\n",
    "\n",
    "from IPython.display import Image"
   ]
  },
  {
   "cell_type": "code",
   "execution_count": null,
   "id": "3a5b38ce",
   "metadata": {},
   "outputs": [],
   "source": [
    "# POOLS - dict with available pools \n",
    "POOLS[1]"
   ]
  },
  {
   "cell_type": "code",
   "execution_count": null,
   "id": "dea50153",
   "metadata": {},
   "outputs": [],
   "source": [
    "# choose WBTC/WETH 0.3% fee\n",
    "pool_num = 1\n",
    "pool = Pool(\n",
    "    tokenA=POOLS[pool_num]['token0'],\n",
    "    tokenB=POOLS[pool_num]['token1'],\n",
    "    fee=POOLS[pool_num]['fee']\n",
    ")"
   ]
  },
  {
   "cell_type": "code",
   "execution_count": null,
   "id": "ea2f8547",
   "metadata": {},
   "outputs": [],
   "source": [
    "# if there is no folder or files, create and download\n",
    "data = RawDataUniV3(pool=pool, data_dir='data', reload_data=False).load_from_folder()"
   ]
  },
  {
   "cell_type": "markdown",
   "id": "c543ba2e",
   "metadata": {},
   "source": [
    "# V2 Passive\n",
    "\n",
    "$ UniV2 = UniV3(0, \\infty) $"
   ]
  },
  {
   "cell_type": "code",
   "execution_count": null,
   "id": "eaba4bac",
   "metadata": {},
   "outputs": [],
   "source": [
    "# create strategy from example, perform backtest\n",
    "\n",
    "v2_strat = UniV3Passive(\n",
    "    lower_price=1e-10,  #1.0001 ** MIN_TICK Unfortunately doesn't fit in data types,\n",
    "    upper_price=1e10,  #1.0001 ** MAX_TICK Unfortunately doesn't fit in data types,\n",
    "    pool=pool,\n",
    "    gas_cost=0.01,\n",
    "    name='passive_v2'\n",
    ")\n",
    "\n",
    "bt = Backtest(strategy=v2_strat)\n",
    "portfolio_history, rebalance_history, uni_history = bt.backtest(df=data.swaps)"
   ]
  },
  {
   "cell_type": "code",
   "execution_count": null,
   "id": "523dbeef",
   "metadata": {},
   "outputs": [],
   "source": [
    "# making plots on backtest results\n",
    "\n",
    "rv = RebalanceViewer(rebalance_history)\n",
    "uv = UniswapViewer(uni_history)\n",
    "pv = PortfolioViewer(portfolio_history, pool)\n",
    "\n",
    "# Draw portfolio stats, like value, fees earned, apy\n",
    "fig1, fig2, fig3, fig4, fig5, fig6 = pv.draw_portfolio()\n",
    "\n",
    "# Draw Uniswap intervals\n",
    "intervals_plot = uv.draw_intervals(data.swaps)\n",
    "\n",
    "# Draw rebalances\n",
    "rebalances_plot = rv.draw_rebalances(data.swaps)\n",
    "\n",
    "# Calculate df with portfolio stats\n",
    "stats = portfolio_history.calculate_stats()"
   ]
  },
  {
   "cell_type": "code",
   "execution_count": null,
   "id": "714b82ce",
   "metadata": {},
   "outputs": [],
   "source": [
    "# gAPY at last moment\n",
    "stats['g_apy'][-1]"
   ]
  },
  {
   "cell_type": "code",
   "execution_count": null,
   "id": "a640e4a8",
   "metadata": {},
   "outputs": [],
   "source": [
    "# calculated portfolio statistics\n",
    "stats.head(2)"
   ]
  },
  {
   "cell_type": "code",
   "execution_count": null,
   "id": "97cb328b",
   "metadata": {},
   "outputs": [],
   "source": [
    "fig6.show()\n",
    "fig6.write_image('v2_fig6.png')"
   ]
  },
  {
   "cell_type": "markdown",
   "id": "8359d437",
   "metadata": {},
   "source": [
    "# V3 Passive"
   ]
  },
  {
   "cell_type": "code",
   "execution_count": null,
   "id": "499226f8",
   "metadata": {},
   "outputs": [],
   "source": [
    "v3_strat = UniV3Passive(\n",
    "#     lower_price=data.swaps['price'].min() + 1,\n",
    "#     upper_price=data.swaps['price'].max() - 1,\n",
    "    lower_price=15,\n",
    "    upper_price=16,\n",
    "    pool=pool,\n",
    "    gas_cost=0.01,\n",
    "    name='passive_v3'\n",
    ")\n",
    "\n",
    "bt = Backtest(strategy=v3_strat)\n",
    "portfolio_history, rebalance_history, uni_history = bt.backtest(df=data.swaps)"
   ]
  },
  {
   "cell_type": "code",
   "execution_count": null,
   "id": "6652ffa4",
   "metadata": {},
   "outputs": [],
   "source": [
    "rv = RebalanceViewer(rebalance_history)\n",
    "uv = UniswapViewer(uni_history)\n",
    "pv = PortfolioViewer(portfolio_history, pool)\n",
    "\n",
    "# Draw portfolio stats, like value, fees earned, apy\n",
    "fig1, fig2, fig3, fig4, fig5, fig6 = pv.draw_portfolio()\n",
    "\n",
    "# Draw Uniswap intervals\n",
    "intervals_plot = uv.draw_intervals(data.swaps)\n",
    "\n",
    "# Draw rebalances\n",
    "rebalances_plot = rv.draw_rebalances(data.swaps)\n",
    "\n",
    "# Calculate df with portfolio stats\n",
    "stats = portfolio_history.calculate_stats()"
   ]
  },
  {
   "cell_type": "code",
   "execution_count": null,
   "id": "b4b980b0",
   "metadata": {},
   "outputs": [],
   "source": [
    "stats['g_apy'][-1]"
   ]
  },
  {
   "cell_type": "code",
   "execution_count": null,
   "id": "cdab1415",
   "metadata": {},
   "outputs": [],
   "source": [
    "fig6.show()\n",
    "fig6.write_image('v3_fig6.png')"
   ]
  },
  {
   "cell_type": "markdown",
   "id": "b0550651",
   "metadata": {},
   "source": [
    "# Catch the price strategy"
   ]
  },
  {
   "cell_type": "code",
   "execution_count": null,
   "id": "48bc1c1f",
   "metadata": {},
   "outputs": [],
   "source": [
    "# create new strategy, should be inherited from AbstractStrategy\n",
    "\n",
    "class StrategyCatchThePrice(AbstractStrategy):\n",
    "    \"\"\"\n",
    "    ``UniV3Passive`` is the passive strategy on UniswapV3 without rebalances.\n",
    "        lower_price: Lower bound of the interval\n",
    "        upper_price: Upper bound of the interval\n",
    "        rebalance_cost: Rebalancing cost, expressed in currency\n",
    "        pool: UniswapV3 Pool instance\n",
    "        name: Unique name for the instance\n",
    "    \"\"\"\n",
    "\n",
    "    def __init__(\n",
    "        self,\n",
    "        name: str,\n",
    "        pool: Pool,\n",
    "        gas_cost: float,\n",
    "        width: int,\n",
    "        seconds_to_hold: int\n",
    "    ):\n",
    "        super().__init__(name)\n",
    "        self.fee_percent = pool.fee.percent\n",
    "        self.gas_cost = gas_cost\n",
    "        self.swap_fee = pool.fee.percent\n",
    "        \n",
    "        self.width = width\n",
    "        self.seconds_to_hold = seconds_to_hold\n",
    "        \n",
    "        self.last_mint_price = None\n",
    "        self.last_timestamp_in_interval = None\n",
    "        self.pos_num = None\n",
    "\n",
    "        \n",
    "    def create_pos(self, x_in, y_in, price, timestamp, portfolio):\n",
    "        \"\"\"\n",
    "            Swaps x_in, y_in in right proportion and mint to new interval\n",
    "        \"\"\"\n",
    "        if self.pos_num is None:\n",
    "            self.pos_num = 1\n",
    "        else:\n",
    "            self.pos_num += 1\n",
    "            \n",
    "        # bicurrency position that can swap tokens\n",
    "        bi_cur = portfolio.get_position('main_vault')\n",
    "        \n",
    "        # add tokens to bicurrency position\n",
    "        bi_cur.deposit(x_in, y_in)\n",
    "        \n",
    "        # new uni position\n",
    "        uni_pos = UniV3Position(\n",
    "            name=f'UniV3_{self.pos_num}', \n",
    "            lower_price=max(1.0001 ** MIN_TICK, price - self.width), \n",
    "            upper_price=min(1.0001 ** MAX_TICK, price + self.width), \n",
    "            fee_percent=self.fee_percent, \n",
    "            gas_cost=self.gas_cost\n",
    "        )\n",
    "        \n",
    "        # add new position to portfolio\n",
    "        portfolio.append(uni_pos)\n",
    "        \n",
    "        # uni_pos.aligner is UniswapLiquidityAligner, good class for working with liquidity operations\n",
    "        dx, dy = uni_pos.aligner.get_amounts_for_swap_to_optimal(\n",
    "            x_in, y_in, swap_fee=bi_cur.swap_fee, price=price\n",
    "        )\n",
    "        \n",
    "        # swap tokens to right proportion (if price in interval swaps to equal liquidity in each token)\n",
    "        if dx > 0:\n",
    "            bi_cur.swap_x_to_y(dx, price=price)\n",
    "        if dy > 0:\n",
    "            bi_cur.swap_y_to_x(dy, price=price)\n",
    "\n",
    "        x_uni, y_uni = uni_pos.aligner.get_amounts_after_optimal_swap(\n",
    "            x_in, y_in, swap_fee=bi_cur.swap_fee, price=price\n",
    "        )\n",
    "        \n",
    "        # withdraw tokens from bicurrency\n",
    "        # because of float numbers precision subtract 1e-9\n",
    "        bi_cur.withdraw(x_uni - 1e-9, y_uni - 1e-9)\n",
    "        \n",
    "        # deposit tokens to uni\n",
    "        uni_pos.deposit(x_uni, y_uni, price=price)\n",
    "        \n",
    "        # remember last mint price to track price in interval\n",
    "        self.last_mint_price = price\n",
    "        \n",
    "        # remember timestamp price was in interval\n",
    "        self.last_timestamp_in_interval = timestamp\n",
    "\n",
    "    def rebalance(self, *args, **kwargs) -> str:\n",
    "        \"\"\"\n",
    "            Function of AbstractStrategy\n",
    "            In Backtest.backtest this function process every row of historic data\n",
    "            \n",
    "            Return: name of portfolio action, that will be processed by RebalanceViewer\n",
    "        \"\"\"\n",
    "        # record is row of historic data\n",
    "        record = kwargs['record']\n",
    "        timestamp = record['timestamp']\n",
    "        event = record['event']\n",
    "        \n",
    "        # portfolio managed by the strategy\n",
    "        portfolio = kwargs['portfolio']\n",
    "        price_before, price = record['price_before'], record['price']\n",
    "        \n",
    "        # process only swap events\n",
    "        if event != 'swap':\n",
    "            return None\n",
    "        \n",
    "        if len(portfolio.positions) == 0:\n",
    "            # create biccurency positions for swap\n",
    "            bi_cur = BiCurrencyPosition(\n",
    "                name=f'main_vault',\n",
    "                swap_fee=self.swap_fee,\n",
    "                gas_cost=self.gas_cost,\n",
    "                x=0,\n",
    "                y=0,\n",
    "                x_interest=None,\n",
    "                y_interest=None\n",
    "            )\n",
    "            portfolio.append(bi_cur)\n",
    "            \n",
    "            # create first uni interval\n",
    "            self.create_pos(x_in=1/price, y_in=1, price=price, timestamp=timestamp, portfolio=portfolio)\n",
    "            return 'init'\n",
    "        \n",
    "        # collect fees from uni\n",
    "        uni_pos = portfolio.get_position(f'UniV3_{self.pos_num}')\n",
    "        uni_pos.charge_fees(price_0=price_before, price_1=price)\n",
    "\n",
    "        \n",
    "        # if price in interval update last_timestamp_in_interval\n",
    "        if abs(self.last_mint_price - price) < self.width:\n",
    "            self.last_timestamp_in_interval = timestamp\n",
    "            return None\n",
    "        \n",
    "        # if price outside interval for long create new uni position\n",
    "        if (timestamp - self.last_timestamp_in_interval).total_seconds() > self.seconds_to_hold:\n",
    "            uni_pos = portfolio.get_position(f'UniV3_{self.pos_num}')\n",
    "            x_out, y_out = uni_pos.withdraw(price)\n",
    "            portfolio.remove(f'UniV3_{self.pos_num}')\n",
    "            self.create_pos(x_in=x_out, y_in=y_out, price=price, timestamp=timestamp, portfolio=portfolio)\n",
    "            return 'rebalance'\n",
    "\n",
    "        return None"
   ]
  },
  {
   "cell_type": "code",
   "execution_count": null,
   "id": "cb90c482",
   "metadata": {},
   "outputs": [],
   "source": [
    "catch_strat = StrategyCatchThePrice(\n",
    "    name='name',\n",
    "    pool=pool,\n",
    "    gas_cost=0, # in this strategy gas can eat all portfolio, for this example set 0\n",
    "    width=0.5,\n",
    "    seconds_to_hold=60*60\n",
    ")\n",
    "\n",
    "bt = Backtest(strategy=catch_strat)\n",
    "portfolio_history, rebalance_history, uni_history = bt.backtest(df=data.swaps)"
   ]
  },
  {
   "cell_type": "code",
   "execution_count": null,
   "id": "af0b1379",
   "metadata": {},
   "outputs": [],
   "source": [
    "rv = RebalanceViewer(rebalance_history)\n",
    "uv = UniswapViewer(uni_history)\n",
    "pv = PortfolioViewer(portfolio_history, pool)\n",
    "\n",
    "# Draw portfolio stats, like value, fees earned, apy\n",
    "fig1, fig2, fig3, fig4, fig5, fig6 = pv.draw_portfolio()\n",
    "\n",
    "# Draw Uniswap intervals\n",
    "intervals_plot = uv.draw_intervals(data.swaps)\n",
    "\n",
    "# Draw rebalances\n",
    "rebalances_plot = rv.draw_rebalances(data.swaps)\n",
    "\n",
    "# Calculate df with portfolio stats\n",
    "stats = portfolio_history.calculate_stats()"
   ]
  },
  {
   "cell_type": "code",
   "execution_count": null,
   "id": "649bdfad",
   "metadata": {},
   "outputs": [],
   "source": [
    "# number of rebalances\n",
    "rv.rebalance_history.to_df().shape[0] "
   ]
  },
  {
   "cell_type": "code",
   "execution_count": null,
   "id": "b1cdfe3d",
   "metadata": {},
   "outputs": [],
   "source": [
    "rebalances_plot.show()\n",
    "rebalances_plot.write_image('catch_rebalances.png')"
   ]
  },
  {
   "cell_type": "code",
   "execution_count": null,
   "id": "4618e14a",
   "metadata": {},
   "outputs": [],
   "source": [
    "intervals_plot.show()\n",
    "intervals_plot.write_image('catch_intervals.png')"
   ]
  },
  {
   "cell_type": "code",
   "execution_count": null,
   "id": "17a652b8",
   "metadata": {},
   "outputs": [],
   "source": [
    "fig2.show()"
   ]
  },
  {
   "cell_type": "code",
   "execution_count": null,
   "id": "f9e0f8d7",
   "metadata": {},
   "outputs": [],
   "source": [
    "fig2.show()\n",
    "fig2.write_image('catch_fig2.png')"
   ]
  },
  {
   "cell_type": "code",
   "execution_count": null,
   "id": "3a389846",
   "metadata": {},
   "outputs": [],
   "source": [
    "fig6.show()\n",
    "fig6.write_image('catch_fig6.png')"
   ]
  },
  {
   "cell_type": "code",
   "execution_count": null,
   "id": "9cae29fe",
   "metadata": {},
   "outputs": [],
   "source": [
    "stats.tail(2)"
   ]
  },
  {
   "cell_type": "code",
   "execution_count": null,
   "id": "1d568214",
   "metadata": {},
   "outputs": [],
   "source": [
    "# fast draw all in one cell\n",
    "display(\n",
    "    *[\n",
    "        Image(i.update_layout(height=300,width=700).to_image(format='png')) \n",
    "        for i in [intervals_plot, rebalances_plot, fig2, fig4, fig6]\n",
    "    ]\n",
    ")"
   ]
  },
  {
   "cell_type": "code",
   "execution_count": null,
   "id": "dcdccfcc",
   "metadata": {},
   "outputs": [],
   "source": []
  }
 ],
 "metadata": {
  "kernelspec": {
   "display_name": "Python 3 (ipykernel)",
   "language": "python",
   "name": "python3"
  },
  "language_info": {
   "codemirror_mode": {
    "name": "ipython",
    "version": 3
   },
   "file_extension": ".py",
   "mimetype": "text/x-python",
   "name": "python",
   "nbconvert_exporter": "python",
   "pygments_lexer": "ipython3",
   "version": "3.9.7"
  }
 },
 "nbformat": 4,
 "nbformat_minor": 5
}