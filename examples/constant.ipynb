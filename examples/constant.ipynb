{
 "cells": [
  {
   "cell_type": "markdown",
   "id": "20a80747",
   "metadata": {},
   "source": [
    "### Install dependenies"
   ]
  },
  {
   "cell_type": "code",
   "execution_count": null,
   "id": "a7114009",
   "metadata": {},
   "outputs": [
    {
     "name": "stdout",
     "output_type": "stream",
     "text": [
      "Requirement already satisfied: numpy in /Users/alex/dev/mellow-strategy-sdk/.venv/lib/python3.9/site-packages (1.21.0)\n",
      "Requirement already satisfied: pandas in /Users/alex/dev/mellow-strategy-sdk/.venv/lib/python3.9/site-packages (1.2.5)\n",
      "Requirement already satisfied: intervaltree in /Users/alex/dev/mellow-strategy-sdk/.venv/lib/python3.9/site-packages (3.1.0)\n",
      "Requirement already satisfied: matplotlib in /Users/alex/dev/mellow-strategy-sdk/.venv/lib/python3.9/site-packages (3.4.2)\n",
      "Requirement already satisfied: pytz>=2017.3 in /Users/alex/dev/mellow-strategy-sdk/.venv/lib/python3.9/site-packages (from pandas) (2021.1)\n",
      "Requirement already satisfied: python-dateutil>=2.7.3 in /Users/alex/dev/mellow-strategy-sdk/.venv/lib/python3.9/site-packages (from pandas) (2.8.1)\n",
      "Requirement already satisfied: six>=1.5 in /Users/alex/dev/mellow-strategy-sdk/.venv/lib/python3.9/site-packages (from python-dateutil>=2.7.3->pandas) (1.16.0)\n",
      "Requirement already satisfied: sortedcontainers<3.0,>=2.0 in /Users/alex/dev/mellow-strategy-sdk/.venv/lib/python3.9/site-packages (from intervaltree) (2.4.0)\n",
      "Requirement already satisfied: cycler>=0.10 in /Users/alex/dev/mellow-strategy-sdk/.venv/lib/python3.9/site-packages (from matplotlib) (0.10.0)\n",
      "Requirement already satisfied: pyparsing>=2.2.1 in /Users/alex/dev/mellow-strategy-sdk/.venv/lib/python3.9/site-packages (from matplotlib) (2.4.7)\n",
      "Requirement already satisfied: pillow>=6.2.0 in /Users/alex/dev/mellow-strategy-sdk/.venv/lib/python3.9/site-packages (from matplotlib) (8.3.0)\n",
      "Requirement already satisfied: kiwisolver>=1.0.1 in /Users/alex/dev/mellow-strategy-sdk/.venv/lib/python3.9/site-packages (from matplotlib) (1.3.1)\n"
     ]
    }
   ],
   "source": [
    "import os\n",
    "import sys\n",
    "root = os.path.split(os.getcwd())[0]\n",
    "if root not in sys.path:\n",
    "    sys.path.append(root)\n",
    "!{sys.executable} -m pip install numpy pandas intervaltree matplotlib\n",
    "\n",
    "import numpy as np\n",
    "import pandas as pd"
   ]
  },
  {
   "cell_type": "markdown",
   "id": "4b8bdfec",
   "metadata": {},
   "source": [
    "### Prepare data"
   ]
  },
  {
   "cell_type": "code",
   "execution_count": null,
   "id": "47a6485b",
   "metadata": {},
   "outputs": [],
   "source": [
    "from strategy import PoolData, Pool, Token, Fee, Frequency\n",
    "pool = Pool(Token.WBTC, Token.WETH, Fee.MIDDLE)\n",
    "data = PoolData.from_pool(pool, Frequency.DAY)\n",
    "data.plot()"
   ]
  },
  {
   "cell_type": "markdown",
   "id": "61a85eee",
   "metadata": {},
   "source": [
    "### Define strategy"
   ]
  },
  {
   "cell_type": "code",
   "execution_count": null,
   "id": "243266da",
   "metadata": {},
   "outputs": [],
   "source": [
    "from strategy import Position, AbstractStrategy \n",
    "from datetime import datetime\n",
    "from typing import Callable\n",
    "\n",
    "class ConstantStrategy(AbstractStrategy):        \n",
    "    def rebalance(\n",
    "        self,\n",
    "        t: datetime,\n",
    "        c: float,\n",
    "        vol: float,\n",
    "        l: Callable[[float], float],\n",
    "        pool_data: PoolData,\n",
    "    ) -> bool:\n",
    "        if not self.portfolio.position(\"main\"):\n",
    "            self.portfolio.add_position(Position(id=\"main\", a = c / 2, b = c * 2))\n",
    "            pos = self.portfolio.position(\"main\")\n",
    "            pos.deposit(c, 1 / 2 / c, 1 / 2, pool_data.pool.fee.percent)\n",
    "\n",
    "        return False"
   ]
  },
  {
   "cell_type": "markdown",
   "id": "fa96140f",
   "metadata": {},
   "source": [
    "### Backtest"
   ]
  },
  {
   "cell_type": "code",
   "execution_count": null,
   "id": "04396600",
   "metadata": {},
   "outputs": [],
   "source": [
    "from strategy import Backtest, Position\n",
    "\n",
    "backtest = Backtest(ConstantStrategy)\n",
    "backtest.run(data, 0.001)\n",
    "backtest.plot()"
   ]
  },
  {
   "cell_type": "code",
   "execution_count": null,
   "id": "664436c5",
   "metadata": {},
   "outputs": [],
   "source": [
    "from strategy import Portfolio\n",
    "\n",
    "p = Portfolio()\n",
    "pos = Position(id=\"main\", a = 16 / 2, b = 16 * 2)\n",
    "p.add_position(pos)\n",
    "pos.deposit(16, 1 / 2 / 16, 1 / 2, 0.003)\n",
    "pos.rebalance(16 / 3, 16 * 3, 16, 0.003)\n",
    "# backtest.history\n",
    "data.swap_prices(\"2021-05-05\", \"2021-05-06\")"
   ]
  },
  {
   "cell_type": "code",
   "execution_count": null,
   "id": "e0cc11a8-22dc-412f-9c26-1736b5831992",
   "metadata": {},
   "outputs": [],
   "source": [
    "backtest.history[\"c\"][0]"
   ]
  },
  {
   "cell_type": "code",
   "execution_count": null,
   "id": "a017668e-dc05-486a-b78f-78b944f1698c",
   "metadata": {},
   "outputs": [],
   "source": []
  }
 ],
 "metadata": {
  "interpreter": {
   "hash": "b87cd349aba5a55874677ab38dd34143b8c996317fc5a5acf40c6217727a89ff"
  },
  "kernelspec": {
   "display_name": "Python 3 (ipykernel)",
   "language": "python",
   "name": "python3"
  },
  "language_info": {
   "codemirror_mode": {
    "name": "ipython",
    "version": 3
   },
   "file_extension": ".py",
   "mimetype": "text/x-python",
   "name": "python",
   "nbconvert_exporter": "python",
   "pygments_lexer": "ipython3",
   "version": "3.9.5"
  }
 },
 "nbformat": 4,
 "nbformat_minor": 5
}
