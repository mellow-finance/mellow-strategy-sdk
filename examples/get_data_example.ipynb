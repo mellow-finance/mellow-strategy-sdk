{
 "cells": [
  {
   "cell_type": "code",
   "execution_count": null,
   "id": "59e22d75",
   "metadata": {},
   "outputs": [],
   "source": [
    "# python3 -m venv .venv\n",
    "# source .venv/bin/activate\n",
    "# pip install mellow_strategy_sdk"
   ]
  },
  {
   "cell_type": "code",
   "execution_count": null,
   "id": "c57c89ed",
   "metadata": {},
   "outputs": [],
   "source": [
    "%load_ext autoreload\n",
    "%autoreload 2\n",
    "\n",
    "import polars as pl\n",
    "import pandas as pd\n",
    "pd.set_option('display.max_colwidth', 70) # чтобы влезали хеши\n",
    "\n",
    "\n",
    "from datetime import datetime\n",
    "\n",
    "from mellow_sdk.data import RawDataUniV3, DownloaderBinanceData, SyntheticData\n",
    "from mellow_sdk.primitives import Pool, POOLS"
   ]
  },
  {
   "cell_type": "code",
   "execution_count": null,
   "id": "71e86089",
   "metadata": {},
   "outputs": [],
   "source": [
    "DATA_DIR = 'data'\n",
    "CONFIG_PATH = 'config.yml'\n",
    "\n",
    "# config should be yml file in format\n",
    "# binance:\n",
    "#   api_key: 'my_key'\n",
    "#   api_secret: 'my_secret'"
   ]
  },
  {
   "cell_type": "code",
   "execution_count": null,
   "id": "cd3863f4",
   "metadata": {},
   "outputs": [],
   "source": [
    "pool_num = 1\n",
    "pool = Pool(POOLS[pool_num]['token0'], POOLS[pool_num]['token1'], POOLS[pool_num]['fee'])"
   ]
  },
  {
   "cell_type": "markdown",
   "id": "de96e30f",
   "metadata": {},
   "source": [
    "# Binance"
   ]
  },
  {
   "cell_type": "code",
   "execution_count": null,
   "id": "033f940c",
   "metadata": {},
   "outputs": [],
   "source": [
    "# https://python-binance.readthedocs.io/en/latest/\n",
    "from binance import Client"
   ]
  },
  {
   "cell_type": "code",
   "execution_count": null,
   "id": "a169a9ed",
   "metadata": {},
   "outputs": [],
   "source": [
    "DownloaderBinanceData(\n",
    "    pair_name='ETHBTC',\n",
    "    interval='1w',\n",
    "    start_date='01-12-2010',\n",
    "    end_date='01-03-2022',\n",
    "    config_path=CONFIG_PATH,\n",
    "    data_dir=DATA_DIR\n",
    ").get()"
   ]
  },
  {
   "cell_type": "markdown",
   "id": "7ef59846",
   "metadata": {},
   "source": [
    "# SyntheticData"
   ]
  },
  {
   "cell_type": "code",
   "execution_count": null,
   "id": "29f24483",
   "metadata": {},
   "outputs": [],
   "source": [
    "synth_data = SyntheticData(\n",
    "    pool=pool, \n",
    "    start_date=datetime(2022, 1, 1), \n",
    "    end_date=datetime(2022, 6, 5),\n",
    "    frequency='1d',\n",
    "    init_price=1, \n",
    "    mu=0, \n",
    "    sigma=0.1, \n",
    "    seed=42\n",
    ").generate_data()"
   ]
  },
  {
   "cell_type": "code",
   "execution_count": null,
   "id": "11182805",
   "metadata": {},
   "outputs": [],
   "source": [
    "synth_data.mints is None, synth_data.burns is None, synth_data.swaps.shape"
   ]
  },
  {
   "cell_type": "markdown",
   "id": "158e4482",
   "metadata": {},
   "source": [
    "# Pool data"
   ]
  },
  {
   "cell_type": "code",
   "execution_count": null,
   "id": "5f76f8c9",
   "metadata": {},
   "outputs": [],
   "source": [
    "data = RawDataUniV3(pool=pool, data_dir='data', reload_data=False).load_from_folder()"
   ]
  },
  {
   "cell_type": "code",
   "execution_count": null,
   "id": "a9d49dcf",
   "metadata": {},
   "outputs": [],
   "source": [
    "data.mints.shape, data.burns.shape, data.swaps.shape"
   ]
  },
  {
   "cell_type": "code",
   "execution_count": null,
   "id": "21f8fe3b",
   "metadata": {},
   "outputs": [],
   "source": []
  },
  {
   "cell_type": "code",
   "execution_count": null,
   "id": "c346e27e",
   "metadata": {},
   "outputs": [],
   "source": []
  }
 ],
 "metadata": {
  "kernelspec": {
   "display_name": "Python 3 (ipykernel)",
   "language": "python",
   "name": "python3"
  },
  "language_info": {
   "codemirror_mode": {
    "name": "ipython",
    "version": 3
   },
   "file_extension": ".py",
   "mimetype": "text/x-python",
   "name": "python",
   "nbconvert_exporter": "python",
   "pygments_lexer": "ipython3",
   "version": "3.9.7"
  }
 },
 "nbformat": 4,
 "nbformat_minor": 5
}