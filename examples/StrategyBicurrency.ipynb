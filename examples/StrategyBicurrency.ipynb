{
 "cells": [
  {
   "cell_type": "code",
   "execution_count": null,
   "id": "bc33c3b5",
   "metadata": {},
   "outputs": [],
   "source": [
    "from typing import Tuple, List\n",
    "from abc import ABC, abstractmethod\n",
    "from decimal import Decimal"
   ]
  },
  {
   "cell_type": "code",
   "execution_count": null,
   "id": "f3688a9f",
   "metadata": {},
   "outputs": [],
   "source": [
    "import numpy as np\n",
    "import pandas as pd\n",
    "import math"
   ]
  },
  {
   "cell_type": "code",
   "execution_count": null,
   "id": "633a050a",
   "metadata": {},
   "outputs": [],
   "source": [
    "import os\n",
    "import sys\n",
    "\n",
    "root = os.path.split(os.getcwd())[0]\n",
    "if root not in sys.path:\n",
    "    sys.path.append(root)"
   ]
  },
  {
   "cell_type": "code",
   "execution_count": null,
   "id": "84e56940",
   "metadata": {},
   "outputs": [],
   "source": []
  },
  {
   "cell_type": "code",
   "execution_count": null,
   "id": "52bd9eb4",
   "metadata": {},
   "outputs": [],
   "source": [
    "%load_ext autoreload\n",
    "%autoreload 2\n",
    "from strategy.Positions import AbstractPosition, UniV3Position, BiCurrencyPosition\n",
    "from strategy.Portfolio import Portfolio\n",
    "from strategy.Data import PoolDataUniV3\n",
    "from strategy.Backtest import AbstractStrategy, Backtest\n",
    "\n",
    "from strategy import PoolData, Pool, Token, Fee, Frequency, RawData"
   ]
  },
  {
   "cell_type": "code",
   "execution_count": null,
   "id": "91ef15c5",
   "metadata": {},
   "outputs": [],
   "source": []
  },
  {
   "cell_type": "code",
   "execution_count": null,
   "id": "f7515051",
   "metadata": {},
   "outputs": [],
   "source": [
    "def impermanent_loss(p_a, p_b, p_init, p):\n",
    "    s_p_a, s_p_b = np.sqrt(p_a), np.sqrt(p_b)\n",
    "    s_p_init, s_p = np.sqrt(p_init), np.sqrt(p)\n",
    "    \n",
    "    numer = 2 * s_p - s_p_a - p / s_p_b\n",
    "    \n",
    "    denom = s_p_init - s_p_a + (1 / s_p_init - 1 / s_p_b) * p\n",
    "    \n",
    "    return (numer / denom) - 1"
   ]
  },
  {
   "cell_type": "code",
   "execution_count": null,
   "id": "e8a19852",
   "metadata": {},
   "outputs": [],
   "source": [
    "pool = Pool(Token.WBTC, Token.WETH, Fee.MIDDLE)"
   ]
  },
  {
   "cell_type": "code",
   "execution_count": null,
   "id": "94d3ccf2",
   "metadata": {},
   "outputs": [],
   "source": []
  },
  {
   "cell_type": "code",
   "execution_count": null,
   "id": "a006ee50",
   "metadata": {},
   "outputs": [],
   "source": [
    "data = PoolDataUniV3.from_folder(pool)\n",
    "data.preprocess()"
   ]
  },
  {
   "cell_type": "code",
   "execution_count": null,
   "id": "aec84e31",
   "metadata": {},
   "outputs": [],
   "source": [
    "data.plot()"
   ]
  },
  {
   "cell_type": "code",
   "execution_count": null,
   "id": "88bc5a8b",
   "metadata": {},
   "outputs": [],
   "source": []
  },
  {
   "cell_type": "code",
   "execution_count": null,
   "id": "0884363f",
   "metadata": {},
   "outputs": [],
   "source": [
    "class MyStrategy(AbstractStrategy):\n",
    "    def __init__(self,\n",
    "                 uni_tolerance: int,\n",
    "                 bicur_tolerance: int,\n",
    "                 grid_width: int = 60,\n",
    "                 width_num : int = 1,\n",
    "                 decimal_diff: int = 10,\n",
    "                 fees_percent = 0.003,\n",
    "                 portfolio: Portfolio = None,\n",
    "                ):\n",
    "        super().__init__(portfolio)\n",
    "        \n",
    "        self.uni_tolerance = uni_tolerance\n",
    "        self.bicur_tolerance = bicur_tolerance\n",
    "        \n",
    "        self.grid_width = grid_width\n",
    "        self.width_num = width_num\n",
    "        self.decimal_diff = decimal_diff\n",
    "        self.fees_percent = fees_percent\n",
    "        \n",
    "        self.previous_uni_ticks = [258000]\n",
    "        self.previous_equalize_price = 258000\n",
    "        self.reinvest_prev_timestamp = pd.Timestamp('2021-05-04')\n",
    "    \n",
    "    \n",
    "    def rebalance(self, *args, **kwargs) -> None:\n",
    "        \n",
    "        timestamp, row = kwargs['timestamp'], kwargs['row']\n",
    "        price_0, price_1 = row['price_before'], row['price']\n",
    "        \n",
    "        tick_lower_bound, center_tick, tick_upper_bound = self._get_bounds_(price_1, self.decimal_diff, self.grid_width, self.width_num)\n",
    "        current_tick = self._price_to_tick_(price_1, self.decimal_diff)\n",
    "        \n",
    "        for name, position in self.portfolio.positions.items():\n",
    "            if hasattr(position, 'charge_fees'):\n",
    "                position.charge_fees(price_0, price_1)\n",
    "         \n",
    "        nearest_pos = np.abs(np.asarray(self.previous_uni_ticks) - current_tick).min()\n",
    "        if nearest_pos >= self.grid_width * (self.width_num + 1) - self.uni_tolerance:\n",
    "            if abs(current_tick - center_tick) < self.uni_tolerance:\n",
    "#                 print(f'''# UPDATE\n",
    "#                             timestamp={timestamp},\n",
    "#                             price={price_1}, \n",
    "#                             current_tick={current_tick},\n",
    "#                             center={center_tick}, \n",
    "#                             lower_price={tick_lower_bound}, \n",
    "#                             upper_price={tick_upper_bound}, \n",
    "#                                 ''')\n",
    "               \n",
    "                fraction = 1.001**((tick_upper_bound - tick_lower_bound) / 2) - 1\n",
    "                x_for_pos, y_for_pos = self.portfolio.get_position('Vault').withdraw_fraction(fraction)\n",
    "                \n",
    "                lower_price = self._tick_to_price_(tick_lower_bound, self.decimal_diff)\n",
    "                upper_price = self._tick_to_price_(tick_upper_bound, self.decimal_diff)\n",
    "                univ3_pos = UniV3Position(f'UniV3_{timestamp}', lower_price, upper_price, self.fees_percent)\n",
    "        \n",
    "                univ3_pos.deposit(x_for_pos, y_for_pos, price_1)\n",
    "                self.portfolio.append(univ3_pos)\n",
    "                \n",
    "                self.previous_uni_ticks.append(center_tick)\n",
    "            \n",
    "        \n",
    "        if abs(current_tick - self.previous_equalize_price) >= self.bicur_tolerance:\n",
    "#             print(f'Prev_eq={self.previous_equalize_price}, Curr_eq={current_tick}')\n",
    "            self.portfolio.get_position('Vault').equalize(price_1)\n",
    "            self.previous_equalize_price = current_tick\n",
    "            \n",
    "        if self.reinvest_prev_timestamp < timestamp.normalize():\n",
    "#             print(f'Prev_date={self.reinvest_prev_timestamp}, Cur_date={timestamp.normalize()}')\n",
    "            \n",
    "            for name, position in self.portfolio.positions.items():\n",
    "                if hasattr(position, 'reinvest_fees'):\n",
    "                    position.reinvest_fees(price_1)\n",
    "                \n",
    "            self.reinvest_prev_timestamp = timestamp.normalize()\n",
    "        \n",
    "        return None\n",
    "    \n",
    "        \n",
    "    def snapshot(self, date, price: float) -> None:\n",
    "        self.portfolio.snapshot(date, price)\n",
    "        return None\n",
    "    \n",
    "    @staticmethod\n",
    "    def _tick_to_price_(tick, decimal_diff):\n",
    "        price = np.power(1.0001, tick) / 10**decimal_diff\n",
    "        return price\n",
    "    \n",
    "    @staticmethod\n",
    "    def _price_to_tick_(price, decimal_diff):\n",
    "        tick = math.log(price, 1.0001) + decimal_diff * math.log(10, 1.0001)\n",
    "        return int(round(tick))\n",
    "    \n",
    "    def _get_bounds_(self, price, decimal_diff, grid_width, width_num):\n",
    "        current_tick =self._price_to_tick_(price, decimal_diff)\n",
    "        center_num = int(current_tick // grid_width)\n",
    "        center_tick = grid_width * center_num\n",
    "\n",
    "        tick_lower_bound = grid_width * (center_num - width_num)\n",
    "        tick_upper_bound = grid_width * (center_num + width_num)\n",
    "        return tick_lower_bound, center_tick, tick_upper_bound"
   ]
  },
  {
   "cell_type": "code",
   "execution_count": null,
   "id": "1a83f40c",
   "metadata": {},
   "outputs": [],
   "source": [
    "c_price = 16"
   ]
  },
  {
   "cell_type": "code",
   "execution_count": null,
   "id": "14444cfa",
   "metadata": {},
   "outputs": [],
   "source": []
  },
  {
   "cell_type": "code",
   "execution_count": null,
   "id": "b1ea1296",
   "metadata": {},
   "outputs": [],
   "source": [
    "bicurrency = BiCurrencyPosition('Vault', 0.003, 0.9 / c_price, 0.9)\n",
    "univ3_pos_main = UniV3Position(f'UniV3_main', 16 / 1.0001**60, 16 * 1.0001**60, 0.003)\n",
    "univ3_pos_main.deposit(0.1 / c_price, 0.1, c_price)\n",
    "\n",
    "portfolio = Portfolio('main', [bicurrency, univ3_pos_main])"
   ]
  },
  {
   "cell_type": "code",
   "execution_count": null,
   "id": "443f8f02",
   "metadata": {},
   "outputs": [],
   "source": [
    "portfolio.positions"
   ]
  },
  {
   "cell_type": "code",
   "execution_count": null,
   "id": "210ba434",
   "metadata": {},
   "outputs": [],
   "source": [
    "b = Backtest(MyStrategy(uni_tolerance=10, bicur_tolerance=240, portfolio=portfolio))"
   ]
  },
  {
   "cell_type": "code",
   "execution_count": null,
   "id": "cd710a11",
   "metadata": {
    "scrolled": true
   },
   "outputs": [],
   "source": [
    "b.backtest(data)"
   ]
  },
  {
   "cell_type": "code",
   "execution_count": null,
   "id": "4a4c0406",
   "metadata": {},
   "outputs": [],
   "source": []
  },
  {
   "cell_type": "code",
   "execution_count": null,
   "id": "38cd14ab",
   "metadata": {},
   "outputs": [],
   "source": [
    "# pd.DataFrame([portfolio.get_position('UniV3').history_y], index=['Volume_y']).T"
   ]
  },
  {
   "cell_type": "code",
   "execution_count": null,
   "id": "8304fd21",
   "metadata": {},
   "outputs": [],
   "source": [
    "portfolio.draw_intervals(data)"
   ]
  },
  {
   "cell_type": "code",
   "execution_count": null,
   "id": "77ad9064",
   "metadata": {},
   "outputs": [],
   "source": [
    "portfolio.draw_portfolio()"
   ]
  },
  {
   "cell_type": "code",
   "execution_count": null,
   "id": "3cfa7e26",
   "metadata": {},
   "outputs": [],
   "source": [
    "stats = portfolio.portfolio_stats()"
   ]
  },
  {
   "cell_type": "code",
   "execution_count": null,
   "id": "ece6695b",
   "metadata": {},
   "outputs": [],
   "source": [
    "stats"
   ]
  },
  {
   "cell_type": "code",
   "execution_count": null,
   "id": "64126385",
   "metadata": {},
   "outputs": [],
   "source": []
  },
  {
   "cell_type": "code",
   "execution_count": null,
   "id": "46d1d744",
   "metadata": {},
   "outputs": [],
   "source": []
  },
  {
   "cell_type": "code",
   "execution_count": null,
   "id": "0391f7ac",
   "metadata": {},
   "outputs": [],
   "source": []
  },
  {
   "cell_type": "code",
   "execution_count": null,
   "id": "d4adb0db",
   "metadata": {},
   "outputs": [],
   "source": [
    "swaps = data.swaps\n",
    "mints = data.mints\n",
    "burns = data.burns"
   ]
  },
  {
   "cell_type": "code",
   "execution_count": null,
   "id": "4a276e8b",
   "metadata": {},
   "outputs": [],
   "source": [
    "swaps.loc[swaps.index > pd.Timestamp('2021-09-16')]"
   ]
  },
  {
   "cell_type": "code",
   "execution_count": null,
   "id": "422d40dd",
   "metadata": {},
   "outputs": [],
   "source": [
    "swaps.sort_index()[-1605:]"
   ]
  },
  {
   "cell_type": "code",
   "execution_count": null,
   "id": "8b6621be",
   "metadata": {},
   "outputs": [],
   "source": []
  },
  {
   "cell_type": "code",
   "execution_count": null,
   "id": "075cfe09",
   "metadata": {},
   "outputs": [],
   "source": []
  },
  {
   "cell_type": "code",
   "execution_count": null,
   "id": "0ee5ba7d",
   "metadata": {},
   "outputs": [],
   "source": []
  },
  {
   "cell_type": "code",
   "execution_count": null,
   "id": "666113b6",
   "metadata": {},
   "outputs": [],
   "source": []
  },
  {
   "cell_type": "code",
   "execution_count": null,
   "id": "e6c7f6d5",
   "metadata": {},
   "outputs": [],
   "source": []
  }
 ],
 "metadata": {
  "kernelspec": {
   "display_name": "Python 3 (ipykernel)",
   "language": "python",
   "name": "python3"
  },
  "language_info": {
   "codemirror_mode": {
    "name": "ipython",
    "version": 3
   },
   "file_extension": ".py",
   "mimetype": "text/x-python",
   "name": "python",
   "nbconvert_exporter": "python",
   "pygments_lexer": "ipython3",
   "version": "3.8.10"
  }
 },
 "nbformat": 4,
 "nbformat_minor": 5
}
