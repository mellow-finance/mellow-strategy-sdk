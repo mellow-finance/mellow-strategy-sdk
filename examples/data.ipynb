{
 "cells": [
  {
   "cell_type": "code",
   "execution_count": 1,
   "id": "0202c6ec-83e2-4c28-8303-c8a92e820231",
   "metadata": {},
   "outputs": [
    {
     "name": "stdout",
     "output_type": "stream",
     "text": [
      "Requirement already satisfied: numpy in ./.exenv/lib/python3.9/site-packages (1.21.0)\n",
      "Requirement already satisfied: pandas in ./.exenv/lib/python3.9/site-packages (1.2.5)\n",
      "Requirement already satisfied: intervaltree in ./.exenv/lib/python3.9/site-packages (3.1.0)\n",
      "Requirement already satisfied: matplotlib in ./.exenv/lib/python3.9/site-packages (3.4.2)\n",
      "Requirement already satisfied: python-dateutil>=2.7.3 in ./.exenv/lib/python3.9/site-packages (from pandas) (2.8.1)\n",
      "Requirement already satisfied: pytz>=2017.3 in ./.exenv/lib/python3.9/site-packages (from pandas) (2021.1)\n",
      "Requirement already satisfied: six>=1.5 in ./.exenv/lib/python3.9/site-packages (from python-dateutil>=2.7.3->pandas) (1.16.0)\n",
      "Requirement already satisfied: sortedcontainers<3.0,>=2.0 in ./.exenv/lib/python3.9/site-packages (from intervaltree) (2.4.0)\n",
      "Requirement already satisfied: pillow>=6.2.0 in ./.exenv/lib/python3.9/site-packages (from matplotlib) (8.2.0)\n",
      "Requirement already satisfied: cycler>=0.10 in ./.exenv/lib/python3.9/site-packages (from matplotlib) (0.10.0)\n",
      "Requirement already satisfied: kiwisolver>=1.0.1 in ./.exenv/lib/python3.9/site-packages (from matplotlib) (1.3.1)\n",
      "Requirement already satisfied: pyparsing>=2.2.1 in ./.exenv/lib/python3.9/site-packages (from matplotlib) (2.4.7)\n",
      "\u001b[33mWARNING: You are using pip version 21.1.1; however, version 21.1.3 is available.\n",
      "You should consider upgrading via the '/Users/alex/dev/mellow-strategy-sdk/examples/.exenv/bin/python3.9 -m pip install --upgrade pip' command.\u001b[0m\n"
     ]
    }
   ],
   "source": [
    "import os\n",
    "import sys\n",
    "root = os.path.split(os.getcwd())[0]\n",
    "if root not in sys.path:\n",
    "    sys.path.append(root)\n",
    "!{sys.executable} -m pip install numpy pandas intervaltree matplotlib\n",
    "\n"
   ]
  },
  {
   "cell_type": "code",
   "execution_count": 4,
   "id": "6a0d9985-a4de-422e-aa75-aced57ad1647",
   "metadata": {
    "tags": []
   },
   "outputs": [
    {
     "name": "stdout",
     "output_type": "stream",
     "text": [
      "Downloading swaps\n",
      "Downloading burns\n",
      "Downloading mints\n",
      "Done\n"
     ]
    }
   ],
   "source": [
    "from data import RawData, Pool\n",
    "raw = RawData(Pool.ETHWBTC)"
   ]
  },
  {
   "cell_type": "code",
   "execution_count": 10,
   "id": "f2e10186-172d-4fa1-9550-fe2fb3ddc6b1",
   "metadata": {},
   "outputs": [
    {
     "data": {
      "text/plain": [
       "block_time\n",
       "2021-05-04 20:22:20    16.03553321631181444171005009\n",
       "2021-05-04 20:44:52    16.05867170122486852157318891\n",
       "2021-05-04 21:22:07    16.08165650996577204476841104\n",
       "2021-05-05 18:16:19    16.50090980789933211284347255\n",
       "2021-05-05 18:46:25    16.71472018034501878141810103\n",
       "                                   ...              \n",
       "2021-06-30 08:32:17    16.33429059502460261883192574\n",
       "2021-06-30 08:40:25    16.33279307102178441978368637\n",
       "2021-06-30 08:40:35    16.32942194505976576435251133\n",
       "2021-06-30 08:41:09    16.32713038243997991418209922\n",
       "2021-06-30 08:41:26    16.31232120114261190014991779\n",
       "Name: c, Length: 25290, dtype: object"
      ]
     },
     "execution_count": 10,
     "metadata": {},
     "output_type": "execute_result"
    }
   ],
   "source": [
    "import pandas as pd\n",
    "import matplotlib.pyplot as plt\n",
    "import numpy as np\n",
    "from intervaltree import IntervalTree, Interval\n",
    "from data import RawData, Pool, Frequency\n",
    "from decimal import Decimal\n",
    "\n",
    "class LiquidityDistribution:\n",
    "    def __init__(self):\n",
    "        self._mints = IntervalTree()\n",
    "        self._burns = IntervalTree()\n",
    "    \n",
    "    def append(self, mints: pd.DataFrame, burns: pd.DataFrame):\n",
    "        self._mints.update([Interval(mint['tick_lower'], mint['tick_upper'], int(mint['amount'])) for idx, mint in mints.iterrows()]) \n",
    "        self._burns.update([Interval(burn['tick_lower'], burn['tick_upper'], int(burn['amount'])) for idx, burn in burns.iterrows()]) \n",
    "    \n",
    "    def at(self, tick: float):\n",
    "        mint = 0\n",
    "        [mint := mint + interval.data for interval in self._mints[tick]]\n",
    "        burn = 0\n",
    "        [burn := burn + interval.data for interval in self._burns[tick]]\n",
    "        return mint - burn\n",
    "\n",
    "class Token:\n",
    "    def __init__(self, name: str, decimals: int):\n",
    "        self._name = name\n",
    "        self._decimals = decimals\n",
    "\n",
    "    def name(self) -> str:\n",
    "        return self._name\n",
    "\n",
    "    def decimals(self) -> int:\n",
    "        return self._decimals\n",
    "\n",
    "class PoolData:\n",
    "    def __init__(self, raw_data: RawData, token0: Token, token1: Token, freq: Frequency):\n",
    "        self._token0 = token0\n",
    "        self._token1 = token1\n",
    "        self._freq = freq\n",
    "        df = pd.DataFrame()\n",
    "        decimals_diff = self._token0.decimals() - self._token1.decimals()\n",
    "        df[\"c\"] = raw_data.swaps[\"sqrt_price_x96\"].transform(lambda x: Decimal(x) * Decimal(x) / Decimal(2 ** 192) * Decimal(10 ** decimals_diff))\n",
    "        df[\"c_inv\"] = 1 / df[\"c\"]\n",
    "        self.data = df\n",
    "\n",
    "# raw.swaps.info()\n",
    "p = PoolData(raw, Token(\"WBTC\", 8), Token(\"ETH\", 18), Frequency.HOUR)\n",
    "p.data[\"c\"]\n",
    "# raw.swaps\n",
    "# display(p.data)\n",
    "# display(raw.burns)\n",
    "# display(raw.swaps)"
   ]
  },
  {
   "cell_type": "code",
   "execution_count": null,
   "id": "17bb7a77-861c-4975-b32f-29e541fe817a",
   "metadata": {},
   "outputs": [],
   "source": []
  }
 ],
 "metadata": {
  "kernelspec": {
   "display_name": "Python 3",
   "language": "python",
   "name": "python3"
  },
  "language_info": {
   "codemirror_mode": {
    "name": "ipython",
    "version": 3
   },
   "file_extension": ".py",
   "mimetype": "text/x-python",
   "name": "python",
   "nbconvert_exporter": "python",
   "pygments_lexer": "ipython3",
   "version": "3.9.5"
  }
 },
 "nbformat": 4,
 "nbformat_minor": 5
}
