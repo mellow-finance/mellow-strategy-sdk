{
 "cells": [
  {
   "cell_type": "code",
   "execution_count": 1,
   "id": "0202c6ec-83e2-4c28-8303-c8a92e820231",
   "metadata": {},
   "outputs": [
    {
     "name": "stdout",
     "output_type": "stream",
     "text": [
      "Requirement already satisfied: numpy in /usr/local/lib/python3.9/site-packages (1.21.0)\n",
      "Requirement already satisfied: pandas in /usr/local/lib/python3.9/site-packages (1.2.5)\n",
      "Requirement already satisfied: intervaltree in /usr/local/lib/python3.9/site-packages (3.1.0)\n",
      "Requirement already satisfied: matplotlib in /usr/local/lib/python3.9/site-packages (3.4.2)\n",
      "Requirement already satisfied: python-dateutil>=2.7.3 in /usr/local/lib/python3.9/site-packages (from pandas) (2.8.1)\n",
      "Requirement already satisfied: pytz>=2017.3 in /usr/local/lib/python3.9/site-packages (from pandas) (2021.1)\n",
      "Requirement already satisfied: six>=1.5 in /usr/local/lib/python3.9/site-packages (from python-dateutil>=2.7.3->pandas) (1.15.0)\n",
      "Requirement already satisfied: sortedcontainers<3.0,>=2.0 in /usr/local/lib/python3.9/site-packages (from intervaltree) (2.4.0)\n",
      "Requirement already satisfied: pillow>=6.2.0 in /usr/local/lib/python3.9/site-packages (from matplotlib) (8.2.0)\n",
      "Requirement already satisfied: cycler>=0.10 in /usr/local/lib/python3.9/site-packages (from matplotlib) (0.10.0)\n",
      "Requirement already satisfied: pyparsing>=2.2.1 in /Users/alex/Library/Python/3.9/lib/python/site-packages (from matplotlib) (2.4.7)\n",
      "Requirement already satisfied: kiwisolver>=1.0.1 in /usr/local/lib/python3.9/site-packages (from matplotlib) (1.3.1)\n",
      "\u001b[33mWARNING: You are using pip version 21.1.1; however, version 21.1.3 is available.\n",
      "You should consider upgrading via the '/usr/local/opt/python@3.9/bin/python3.9 -m pip install --upgrade pip' command.\u001b[0m\n"
     ]
    }
   ],
   "source": [
    "import os\n",
    "import sys\n",
    "root = os.path.split(os.getcwd())[0]\n",
    "if root not in sys.path:\n",
    "    sys.path.append(root)\n",
    "!{sys.executable} -m pip install numpy pandas intervaltree matplotlib\n",
    "\n"
   ]
  },
  {
   "cell_type": "code",
   "execution_count": null,
   "id": "6a0d9985-a4de-422e-aa75-aced57ad1647",
   "metadata": {
    "tags": []
   },
   "outputs": [
    {
     "name": "stdout",
     "output_type": "stream",
     "text": [
      "Downloading swaps\n",
      "Downloading burns\n",
      "Downloading mints\n"
     ]
    }
   ],
   "source": [
    "from strategy.data import RawData\n",
    "from strategy.primitives import Pool, Token, Fee\n",
    "pool = Pool(Token.WBTC, Token.WETH, Fee.MIDDLE)\n",
    "raw = RawData.from_pool(pool)"
   ]
  },
  {
   "cell_type": "code",
   "execution_count": null,
   "id": "f2e10186-172d-4fa1-9550-fe2fb3ddc6b1",
   "metadata": {},
   "outputs": [],
   "source": [
    "import pandas as pd\n",
    "import matplotlib.pyplot as plt\n",
    "import numpy as np\n",
    "from strategy.primitives import Pool, Frequency\n",
    "from strategy.data import PoolData\n",
    "\n",
    "p = PoolData.from_raw_data(raw, Frequency.DAY)\n",
    "display(p.data.tail())\n",
    "p.plot()\n"
   ]
  },
  {
   "cell_type": "code",
   "execution_count": null,
   "id": "17bb7a77-861c-4975-b32f-29e541fe817a",
   "metadata": {},
   "outputs": [],
   "source": [
    "from strategy.portfolio import Position\n",
    "from strategy.backtest import AbstractStrategy, Backtest\n",
    "from strategy.data import PoolData\n",
    "from datetime import datetime\n",
    "from typing import Callable\n",
    "\n",
    "class RebalanceStrategy(AbstractStrategy):        \n",
    "    def rebalance(\n",
    "        self,\n",
    "        t: datetime,\n",
    "        c: float,\n",
    "        vol: float,\n",
    "        l: Callable[[float], float],\n",
    "        pool_data: PoolData,\n",
    "    ) -> bool:\n",
    "        if not self.portfolio.position(\"main\"):\n",
    "            self.portfolio.add_position(Position(id=\"main\", a = c / 1.0001 ** 60, b = c * 1.0001 ** 60))\n",
    "            pos = self.portfolio.position(\"main\")\n",
    "            pos.deposit(c, 1)\n",
    "        else:\n",
    "            pos = self.portfolio.position(\"main\")\n",
    "            pos.set_a(c / 1.0001 ** 60, c)\n",
    "            pos.set_b(c * 1.0001 ** 60, c)\n",
    "\n",
    "        return True\n",
    "backtest = Backtest(RebalanceStrategy())\n",
    "# data = p[\"2021-06-20\":\"2021-06-30\"]\n",
    "data = p\n",
    "backtest.run(data, 0.001)\n",
    "backtest.plot(20, 50)"
   ]
  },
  {
   "cell_type": "code",
   "execution_count": null,
   "id": "cfaf6fed-573e-4cc4-9b18-daaa717856bd",
   "metadata": {},
   "outputs": [],
   "source": []
  }
 ],
 "metadata": {
  "kernelspec": {
   "display_name": "Python 3",
   "language": "python",
   "name": "python3"
  },
  "language_info": {
   "codemirror_mode": {
    "name": "ipython",
    "version": 3
   },
   "file_extension": ".py",
   "mimetype": "text/x-python",
   "name": "python",
   "nbconvert_exporter": "python",
   "pygments_lexer": "ipython3",
   "version": "3.9.5"
  }
 },
 "nbformat": 4,
 "nbformat_minor": 5
}
